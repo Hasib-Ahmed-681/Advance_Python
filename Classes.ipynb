{
 "cells": [
  {
   "cell_type": "code",
   "execution_count": 1,
   "id": "7e12e5ba",
   "metadata": {},
   "outputs": [
    {
     "name": "stdout",
     "output_type": "stream",
     "text": [
      "<class 'int'>\n"
     ]
    }
   ],
   "source": [
    "x=1\n",
    "print(type(x))"
   ]
  },
  {
   "cell_type": "code",
   "execution_count": 2,
   "id": "f34b693a",
   "metadata": {},
   "outputs": [],
   "source": [
    "#class is a bluprint for creating new object\n",
    "# object is an instance of class"
   ]
  },
  {
   "cell_type": "code",
   "execution_count": 3,
   "id": "59db8661",
   "metadata": {},
   "outputs": [],
   "source": [
    "#Class: Human \n",
    "#Object: Jhon,Mary,Jack"
   ]
  },
  {
   "cell_type": "markdown",
   "id": "013d79a9",
   "metadata": {},
   "source": [
    "# Creating Class"
   ]
  },
  {
   "cell_type": "code",
   "execution_count": 4,
   "id": "d3c15e5c",
   "metadata": {},
   "outputs": [],
   "source": [
    "class Point:\n",
    "    def draw(self):\n",
    "        print(\"draw\")\n",
    "        \n",
    "#all function/method of a class should have at list 1 self method"
   ]
  },
  {
   "cell_type": "code",
   "execution_count": 5,
   "id": "5c13fdd5",
   "metadata": {},
   "outputs": [],
   "source": [
    "point = Point()"
   ]
  },
  {
   "cell_type": "code",
   "execution_count": 6,
   "id": "3f5d8199",
   "metadata": {},
   "outputs": [
    {
     "name": "stdout",
     "output_type": "stream",
     "text": [
      "<class '__main__.Point'>\n"
     ]
    }
   ],
   "source": [
    "print(type(point))"
   ]
  },
  {
   "cell_type": "code",
   "execution_count": 7,
   "id": "0dceb130",
   "metadata": {},
   "outputs": [
    {
     "data": {
      "text/plain": [
       "True"
      ]
     },
     "execution_count": 7,
     "metadata": {},
     "output_type": "execute_result"
    }
   ],
   "source": [
    "isinstance(point,Point)\n",
    "#isinstance(point,int) Flase"
   ]
  },
  {
   "cell_type": "markdown",
   "id": "cc4c7cbc",
   "metadata": {},
   "source": [
    "# Constructor"
   ]
  },
  {
   "cell_type": "code",
   "execution_count": 8,
   "id": "771f34d4",
   "metadata": {},
   "outputs": [],
   "source": [
    "class Point:\n",
    "    def __init__(self,x,y):\n",
    "        self.x=x\n",
    "        self.y=y\n",
    "        \n",
    "    def draw(self):\n",
    "        print(f\"Point({self.x},{self.y})\")\n",
    "        \n",
    "point = Point(1,2)"
   ]
  },
  {
   "cell_type": "code",
   "execution_count": 9,
   "id": "d69b57fb",
   "metadata": {},
   "outputs": [],
   "source": [
    "#self is reference current point object"
   ]
  },
  {
   "cell_type": "code",
   "execution_count": 10,
   "id": "9666f1de",
   "metadata": {},
   "outputs": [
    {
     "name": "stdout",
     "output_type": "stream",
     "text": [
      "1\n",
      "Point(1,2)\n",
      "None\n"
     ]
    }
   ],
   "source": [
    "print(point.x)\n",
    "print(point.draw())"
   ]
  },
  {
   "cell_type": "markdown",
   "id": "8a126fa8",
   "metadata": {},
   "source": [
    "# Class vs Instance (attribute,method)"
   ]
  },
  {
   "cell_type": "code",
   "execution_count": 11,
   "id": "906dce50",
   "metadata": {},
   "outputs": [],
   "source": [
    "class Point:\n",
    "    default_color= \"red\"\n",
    "    def __init__(self,x,y):\n",
    "        self.x=x\n",
    "        self.y=y\n",
    "        \n",
    "    @classmethod\n",
    "    def zero(cls):\n",
    "        return cls(0,0)\n",
    "    def draw(self):\n",
    "        print(f\"Point({self.x},{self.y})\")\n",
    "        \n",
    "point = Point(1,2)"
   ]
  },
  {
   "cell_type": "code",
   "execution_count": 12,
   "id": "2acd1aad",
   "metadata": {},
   "outputs": [
    {
     "name": "stdout",
     "output_type": "stream",
     "text": [
      "yellow\n",
      "yellow\n"
     ]
    }
   ],
   "source": [
    "Point.default_color=\"yellow\"\n",
    "print(point.default_color)\n",
    "print(Point.default_color)"
   ]
  },
  {
   "cell_type": "code",
   "execution_count": 13,
   "id": "374cfa07",
   "metadata": {},
   "outputs": [],
   "source": [
    "point = Point.zero()"
   ]
  },
  {
   "cell_type": "markdown",
   "id": "b213cc84",
   "metadata": {},
   "source": [
    "# Magic Method"
   ]
  },
  {
   "cell_type": "code",
   "execution_count": 14,
   "id": "11cb6905",
   "metadata": {},
   "outputs": [],
   "source": [
    "class Point:\n",
    "    def __init__(self,x,y):\n",
    "        self.x=x\n",
    "        self.y=y\n"
   ]
  },
  {
   "cell_type": "code",
   "execution_count": 15,
   "id": "8f57decc",
   "metadata": {},
   "outputs": [
    {
     "name": "stdout",
     "output_type": "stream",
     "text": [
      "False\n"
     ]
    }
   ],
   "source": [
    "point= Point(1,2)\n",
    "other=Point(1,2)\n",
    "print(point==other) #Flase"
   ]
  },
  {
   "cell_type": "code",
   "execution_count": 16,
   "id": "1e754727",
   "metadata": {},
   "outputs": [],
   "source": [
    "#to solve this problem we need magic method"
   ]
  },
  {
   "cell_type": "code",
   "execution_count": 17,
   "id": "c33dcc90",
   "metadata": {},
   "outputs": [
    {
     "name": "stdout",
     "output_type": "stream",
     "text": [
      "True\n"
     ]
    }
   ],
   "source": [
    "class Point:\n",
    "    def __init__(self,x,y):\n",
    "        self.x=x\n",
    "        self.y=y\n",
    "    def __eq__(self,other):\n",
    "        return self.x==other.x and self.y==other.y\n",
    "\n",
    "point= Point(1,2)\n",
    "other=Point(1,2)\n",
    "print(point==other)"
   ]
  },
  {
   "cell_type": "code",
   "execution_count": 18,
   "id": "e6eb95a4",
   "metadata": {},
   "outputs": [],
   "source": [
    "# print(point>other) \n",
    "#get error \n",
    "# to fix this we need another magic method name __gt__"
   ]
  },
  {
   "cell_type": "code",
   "execution_count": 19,
   "id": "35e6fdc1",
   "metadata": {},
   "outputs": [
    {
     "name": "stdout",
     "output_type": "stream",
     "text": [
      "True\n"
     ]
    }
   ],
   "source": [
    "class Point:\n",
    "    def __init__(self,x,y):\n",
    "        self.x=x\n",
    "        self.y=y\n",
    "    def __eq__(self,other):\n",
    "        return self.x==other.x and self.y==other.y\n",
    "    \n",
    "    def __gt__(self,other):\n",
    "        return self.x>other.x and self.y>other.y\n",
    "\n",
    "point= Point(10,20)\n",
    "other=Point(1,2)\n",
    "print(point>other)"
   ]
  },
  {
   "cell_type": "code",
   "execution_count": 20,
   "id": "3759f03a",
   "metadata": {},
   "outputs": [
    {
     "name": "stdout",
     "output_type": "stream",
     "text": [
      "False\n"
     ]
    }
   ],
   "source": [
    "print(point<other)"
   ]
  },
  {
   "cell_type": "markdown",
   "id": "0a66e3db",
   "metadata": {},
   "source": [
    "# Custom Container"
   ]
  },
  {
   "cell_type": "code",
   "execution_count": 21,
   "id": "7a7c144f",
   "metadata": {},
   "outputs": [],
   "source": [
    "class TagCloud:\n",
    "    def __init__(self):\n",
    "        self.tags={}\n",
    "    def add(self,tag):\n",
    "        self.tags[tag.lower()]=self.tags.get(tag,0)+1\n",
    "    \n",
    "    def __getitem__(self,tag):\n",
    "        return self.tags.get(tag.lower())\n",
    "    \n",
    "    def __setitem__(self,tag,count):\n",
    "        self.tags[tag.lower()] = count\n",
    "        \n",
    "    def __len__(self):\n",
    "        return len(self.tags)\n",
    "    \n",
    "    def __iter__(self):\n",
    "        return iter(self.tags)\n",
    "    "
   ]
  },
  {
   "cell_type": "code",
   "execution_count": 22,
   "id": "cd93203c",
   "metadata": {},
   "outputs": [
    {
     "name": "stdout",
     "output_type": "stream",
     "text": [
      "{'python': 3}\n",
      "1\n",
      "python\n"
     ]
    }
   ],
   "source": [
    "cloud = TagCloud()\n",
    "cloud[\"python\"]\n",
    "cloud.add(\"Python\")\n",
    "cloud.add(\"python\")\n",
    "cloud.add(\"python\")\n",
    "print(cloud.tags)\n",
    "print(len(cloud))\n",
    "cloud[\"python\"]=10\n",
    "for tag in cloud:\n",
    "    print(tag)"
   ]
  },
  {
   "cell_type": "markdown",
   "id": "0797fb1d",
   "metadata": {},
   "source": [
    "# Private Member"
   ]
  },
  {
   "cell_type": "code",
   "execution_count": 23,
   "id": "0637d6f7",
   "metadata": {},
   "outputs": [
    {
     "data": {
      "text/plain": [
       "'\\nprint(cloud.tags[\"PYTHON\"])\\n\\n---------------------------------------------------------------------------\\nKeyError                                  Traceback (most recent call last)\\nCell In [25], line 1\\n----> 1 print(cloud.tags[\"PYTHON\"])\\n\\nKeyError: \\'PYTHON\\'\\n\\n'"
      ]
     },
     "execution_count": 23,
     "metadata": {},
     "output_type": "execute_result"
    }
   ],
   "source": [
    "\"\"\"\n",
    "print(cloud.tags[\"PYTHON\"])\n",
    "\n",
    "---------------------------------------------------------------------------\n",
    "KeyError                                  Traceback (most recent call last)\n",
    "Cell In [25], line 1\n",
    "----> 1 print(cloud.tags[\"PYTHON\"])\n",
    "\n",
    "KeyError: 'PYTHON'\n",
    "\n",
    "\"\"\"\n"
   ]
  },
  {
   "cell_type": "code",
   "execution_count": 24,
   "id": "acab1f09",
   "metadata": {},
   "outputs": [],
   "source": [
    "#To fix this problem we need to hide the attribute"
   ]
  },
  {
   "cell_type": "code",
   "execution_count": 25,
   "id": "8bc09034",
   "metadata": {},
   "outputs": [],
   "source": [
    "class TagCloud:\n",
    "    def __init__(self):\n",
    "        self.__tags={}\n",
    "    def add(self,tag):\n",
    "        self.__tags[tag.lower()]=self.__tags.get(tag,0)+1\n",
    "    \n",
    "    def __getitem__(self,tag):\n",
    "        return self.__tags.get(tag.lower())\n",
    "    \n",
    "    def __setitem__(self,tag,count):\n",
    "        self.__tags[tag.lower()] = count\n",
    "        \n",
    "    def __len__(self):\n",
    "        return len(self.__tags)\n",
    "    \n",
    "    def __iter__(self):\n",
    "        return iter(self.__tags)\n",
    "    "
   ]
  },
  {
   "cell_type": "code",
   "execution_count": 26,
   "id": "b358b287",
   "metadata": {},
   "outputs": [
    {
     "data": {
      "text/plain": [
       "\"\\nprint(cloud.__tags)\\n\\n---------------------------------------------------------------------------\\nAttributeError                            Traceback (most recent call last)\\nCell In [31], line 1\\n----> 1 print(cloud.__tags)\\n\\nAttributeError: 'TagCloud' object has no attribute '__tags'\\n\\n\""
      ]
     },
     "execution_count": 26,
     "metadata": {},
     "output_type": "execute_result"
    }
   ],
   "source": [
    "\"\"\"\n",
    "print(cloud.__tags)\n",
    "\n",
    "---------------------------------------------------------------------------\n",
    "AttributeError                            Traceback (most recent call last)\n",
    "Cell In [31], line 1\n",
    "----> 1 print(cloud.__tags)\n",
    "\n",
    "AttributeError: 'TagCloud' object has no attribute '__tags'\n",
    "\n",
    "\"\"\""
   ]
  },
  {
   "cell_type": "code",
   "execution_count": 27,
   "id": "88cbe454",
   "metadata": {},
   "outputs": [],
   "source": [
    "# we set to tag a private attribute so we cant access it"
   ]
  },
  {
   "cell_type": "markdown",
   "id": "c3fcfdee",
   "metadata": {},
   "source": [
    "# Properties"
   ]
  },
  {
   "cell_type": "code",
   "execution_count": 28,
   "id": "be2f8d81",
   "metadata": {},
   "outputs": [],
   "source": [
    "class Product:\n",
    "    def __init__(self,price):\n",
    "        self.price=price"
   ]
  },
  {
   "cell_type": "code",
   "execution_count": 29,
   "id": "6e734fd8",
   "metadata": {},
   "outputs": [],
   "source": [
    "product = Product(-50) \n",
    "# product doesnt have (-) value\n",
    "# we need to prevent this"
   ]
  },
  {
   "cell_type": "code",
   "execution_count": 30,
   "id": "4e00208e",
   "metadata": {},
   "outputs": [
    {
     "data": {
      "text/plain": [
       "'class Product:\\n    def __init__(self,price):\\n        self.set_price(price)\\n        \\n    def get_price(self):\\n        return self.__price\\n    \\n    def set_price(self,value):\\n        if value<0:\\n            raise ValueError(\"Price cannot be negative\")\\n        self.__price=value\\n        \\nproduct = Product(-50) \\n#not a best practice\\n\\n'"
      ]
     },
     "execution_count": 30,
     "metadata": {},
     "output_type": "execute_result"
    }
   ],
   "source": [
    "\"\"\"class Product:\n",
    "    def __init__(self,price):\n",
    "        self.set_price(price)\n",
    "        \n",
    "    def get_price(self):\n",
    "        return self.__price\n",
    "    \n",
    "    def set_price(self,value):\n",
    "        if value<0:\n",
    "            raise ValueError(\"Price cannot be negative\")\n",
    "        self.__price=value\n",
    "        \n",
    "product = Product(-50) \n",
    "#not a best practice\n",
    "\n",
    "\"\"\""
   ]
  },
  {
   "cell_type": "code",
   "execution_count": 31,
   "id": "a6e9cedf",
   "metadata": {},
   "outputs": [
    {
     "name": "stdout",
     "output_type": "stream",
     "text": [
      "10\n"
     ]
    }
   ],
   "source": [
    "class Product:\n",
    "    def __init__(self,price):\n",
    "        self.set_price(price)\n",
    "        \n",
    "    def get_price(self):\n",
    "        return self.__price\n",
    "    \n",
    "    def set_price(self,value):\n",
    "        if value<0:\n",
    "            raise ValueError(\"Price cannot be negative\")\n",
    "        self.__price=value\n",
    "        \n",
    "    price = property(get_price, set_price)\n",
    "    \n",
    "product = Product(10)\n",
    "print(product.price)"
   ]
  },
  {
   "cell_type": "code",
   "execution_count": 32,
   "id": "4c44e8a6",
   "metadata": {},
   "outputs": [
    {
     "ename": "ValueError",
     "evalue": "Price cannot be negative",
     "output_type": "error",
     "traceback": [
      "\u001b[1;31m---------------------------------------------------------------------------\u001b[0m",
      "\u001b[1;31mValueError\u001b[0m                                Traceback (most recent call last)",
      "Cell \u001b[1;32mIn [32], line 2\u001b[0m\n\u001b[0;32m      1\u001b[0m product \u001b[38;5;241m=\u001b[39m Product(\u001b[38;5;241m10\u001b[39m)\n\u001b[1;32m----> 2\u001b[0m \u001b[43mproduct\u001b[49m\u001b[38;5;241;43m.\u001b[39;49m\u001b[43mprice\u001b[49m\u001b[38;5;241m=\u001b[39m\u001b[38;5;241m-\u001b[39m\u001b[38;5;241m1\u001b[39m\n\u001b[0;32m      3\u001b[0m \u001b[38;5;28mprint\u001b[39m(product\u001b[38;5;241m.\u001b[39mprice)\n",
      "Cell \u001b[1;32mIn [31], line 10\u001b[0m, in \u001b[0;36mProduct.set_price\u001b[1;34m(self, value)\u001b[0m\n\u001b[0;32m      8\u001b[0m \u001b[38;5;28;01mdef\u001b[39;00m \u001b[38;5;21mset_price\u001b[39m(\u001b[38;5;28mself\u001b[39m,value):\n\u001b[0;32m      9\u001b[0m     \u001b[38;5;28;01mif\u001b[39;00m value\u001b[38;5;241m<\u001b[39m\u001b[38;5;241m0\u001b[39m:\n\u001b[1;32m---> 10\u001b[0m         \u001b[38;5;28;01mraise\u001b[39;00m \u001b[38;5;167;01mValueError\u001b[39;00m(\u001b[38;5;124m\"\u001b[39m\u001b[38;5;124mPrice cannot be negative\u001b[39m\u001b[38;5;124m\"\u001b[39m)\n\u001b[0;32m     11\u001b[0m     \u001b[38;5;28mself\u001b[39m\u001b[38;5;241m.\u001b[39m__price\u001b[38;5;241m=\u001b[39mvalue\n",
      "\u001b[1;31mValueError\u001b[0m: Price cannot be negative"
     ]
    }
   ],
   "source": [
    "product = Product(10)\n",
    "product.price=-1\n",
    "print(product.price)"
   ]
  },
  {
   "cell_type": "code",
   "execution_count": null,
   "id": "857bfe6f",
   "metadata": {},
   "outputs": [],
   "source": [
    "class Product:\n",
    "    def __init__(self,price):\n",
    "        self.price=price\n",
    "    @property   \n",
    "    def price(self):\n",
    "        return self.__price\n",
    "    \n",
    "    @price.setter\n",
    "    def price(self,value):\n",
    "        if value<0:\n",
    "            raise ValueError(\"Price cannot be negative\")\n",
    "        self.__price=value\n",
    "        \n",
    "   \n",
    "    \n",
    "product = Product(10)\n",
    "print(product.price)"
   ]
  },
  {
   "cell_type": "code",
   "execution_count": null,
   "id": "3258d03e",
   "metadata": {},
   "outputs": [],
   "source": [
    "product = Product(-10)\n",
    "print(product.price)"
   ]
  },
  {
   "cell_type": "code",
   "execution_count": null,
   "id": "75ed3914",
   "metadata": {},
   "outputs": [],
   "source": [
    "class Product:\n",
    "    def __init__(self,price):\n",
    "        self.price=price\n",
    "    @property   \n",
    "    def price(self):\n",
    "        return self.__price\n",
    "    \n",
    "   # @price.setter\n",
    "   # def price(self,value):\n",
    "   #     if value<0:\n",
    "   #         raise ValueError(\"Price cannot be negative\")\n",
    "   #     self.__price=value\n",
    "        \n",
    "\n",
    "    \n",
    "product = Product(10)\n",
    "product.price=2\n",
    "print(product.price)"
   ]
  },
  {
   "cell_type": "markdown",
   "id": "9a9ec5e6",
   "metadata": {},
   "source": [
    "# Inheritance"
   ]
  },
  {
   "cell_type": "code",
   "execution_count": null,
   "id": "c53d26f6",
   "metadata": {},
   "outputs": [],
   "source": [
    "class Mammal:\n",
    "    def eat(self):\n",
    "        print(\"eat\")\n",
    "        \n",
    "    def walk(self):\n",
    "        print(\"walk\")\n",
    "        \n",
    "class Fish:\n",
    "    def eat(self):\n",
    "        print(\"eat\")\n",
    "        \n",
    "    def swim(self):\n",
    "        print(\"swim\")\n",
    "        \n",
    "# repeat method"
   ]
  },
  {
   "cell_type": "code",
   "execution_count": null,
   "id": "7d32c1bb",
   "metadata": {},
   "outputs": [],
   "source": [
    "class Animal:\n",
    "    def eat(self):\n",
    "        print(\"eat\")\n",
    "\n",
    "# Animal: Parent, Base\n",
    "# Mammal: Child, Sub\n",
    "class Mammal(Animal):\n",
    "    \n",
    "    def walk(self):\n",
    "        print(\"walk\")\n",
    "        \n",
    "\n",
    "class Fish(Animal):\n",
    "\n",
    "    def swim(self):\n",
    "        print(\"swim\")"
   ]
  },
  {
   "cell_type": "code",
   "execution_count": null,
   "id": "12ff21a4",
   "metadata": {},
   "outputs": [],
   "source": [
    "m=Mammal()\n",
    "m.eat()"
   ]
  },
  {
   "cell_type": "code",
   "execution_count": null,
   "id": "7ce78514",
   "metadata": {},
   "outputs": [],
   "source": [
    "class Animal:\n",
    "    def __init__(self):\n",
    "        self.age=1\n",
    "        \n",
    "    def eat(self):\n",
    "        print(\"eat\")\n",
    "\n",
    "# Animal: Parent, Base\n",
    "# Mammal: Child, Sub\n",
    "class Mammal(Animal):\n",
    "    \n",
    "    def walk(self):\n",
    "        print(\"walk\")\n",
    "        \n",
    "\n",
    "class Fish(Animal):\n",
    "\n",
    "    def swim(self):\n",
    "        print(\"swim\")"
   ]
  },
  {
   "cell_type": "code",
   "execution_count": null,
   "id": "b2d057a3",
   "metadata": {},
   "outputs": [],
   "source": [
    "m=Mammal()\n",
    "m.eat()\n",
    "print(m.age)"
   ]
  },
  {
   "cell_type": "markdown",
   "id": "41d2c66b",
   "metadata": {},
   "source": [
    "# The Object Class"
   ]
  },
  {
   "cell_type": "code",
   "execution_count": null,
   "id": "eca9b2f6",
   "metadata": {},
   "outputs": [],
   "source": [
    "print(isinstance(m,Mammal))\n",
    "print(isinstance(m,Animal))\n",
    "print(isinstance(m,object))"
   ]
  },
  {
   "cell_type": "code",
   "execution_count": null,
   "id": "af1b0778",
   "metadata": {},
   "outputs": [],
   "source": [
    "print(issubclass(Mammal,Animal))\n",
    "print(issubclass(Mammal,object))"
   ]
  },
  {
   "cell_type": "markdown",
   "id": "28deae01",
   "metadata": {},
   "source": [
    "# Method Overriding"
   ]
  },
  {
   "cell_type": "code",
   "execution_count": null,
   "id": "37ebc13f",
   "metadata": {},
   "outputs": [],
   "source": [
    "class Animal:\n",
    "    def __init__(self):\n",
    "        self.age=1\n",
    "        \n",
    "    def eat(self):\n",
    "        print(\"eat\")\n",
    "\n",
    "\n",
    "class Mammal(Animal):\n",
    "     def __init__(self):\n",
    "        self.weight=2\n",
    "        \n",
    "    def walk(self):\n",
    "        print(\"walk\")\n"
   ]
  },
  {
   "cell_type": "code",
   "execution_count": null,
   "id": "42cfb2aa",
   "metadata": {},
   "outputs": [],
   "source": [
    "m=Mammal()\n",
    "print(m.age)\n",
    "print(m.weight)"
   ]
  },
  {
   "cell_type": "code",
   "execution_count": null,
   "id": "bb9c2430",
   "metadata": {},
   "outputs": [],
   "source": [
    "class Animal:\n",
    "    def __init__(self):\n",
    "        self.age=1\n",
    "        print(\"Animal Constructor\")\n",
    "        \n",
    "    def eat(self):\n",
    "        print(\"eat\")\n",
    "\n",
    "\n",
    "class Mammal(Animal):\n",
    "     def __init__(self):\n",
    "        super().__innit__( )\n",
    "        self.weight=2\n",
    "        print(\"Mammal Constructor\")\n",
    "        \n",
    "    def walk(self):\n",
    "        print(\"walk\")"
   ]
  },
  {
   "cell_type": "code",
   "execution_count": null,
   "id": "3875dedb",
   "metadata": {},
   "outputs": [],
   "source": [
    "m = Mammal()\n",
    "print(m.age)\n",
    "print(m.weight)"
   ]
  },
  {
   "cell_type": "markdown",
   "id": "504af3d0",
   "metadata": {},
   "source": [
    "# Multilevel Inheritance"
   ]
  },
  {
   "cell_type": "code",
   "execution_count": 33,
   "id": "f9380f4b",
   "metadata": {},
   "outputs": [],
   "source": [
    "class Animal:\n",
    "    def eat(self):\n",
    "        print(\"eat\")\n",
    "        \n",
    "class Bird(Animal):\n",
    "    def fly(self):\n",
    "        print(\"fly\")\n",
    "        \n",
    "class Chicken(Bird):\n",
    "    pass"
   ]
  },
  {
   "cell_type": "markdown",
   "id": "0b72b441",
   "metadata": {},
   "source": [
    "# Multiple Inheritence"
   ]
  },
  {
   "cell_type": "code",
   "execution_count": 34,
   "id": "371be383",
   "metadata": {},
   "outputs": [
    {
     "name": "stdout",
     "output_type": "stream",
     "text": [
      "Employee Greet\n"
     ]
    }
   ],
   "source": [
    "class Employee:\n",
    "    def greet(self):\n",
    "        print(\"Employee Greet\")\n",
    "\n",
    "class Person:\n",
    "    def greet(self):\n",
    "        print(\"Person Greet\")     \n",
    "        \n",
    "class Manager(Employee,Person):\n",
    "    pass\n",
    "\n",
    "manager= Manager()\n",
    "manager.greet()"
   ]
  },
  {
   "cell_type": "code",
   "execution_count": 36,
   "id": "580a3a1e",
   "metadata": {},
   "outputs": [],
   "source": [
    "class Flayer:\n",
    "    def fly(self):\n",
    "        pass\n",
    "\n",
    "class Swimmer:\n",
    "    def swim(self):\n",
    "        pass\n",
    "\n",
    "class FlyingFish(Flayer, Swimmer):\n",
    "    pass"
   ]
  },
  {
   "cell_type": "markdown",
   "id": "8599581f",
   "metadata": {},
   "source": [
    "# A Good Example of inheritance"
   ]
  },
  {
   "cell_type": "code",
   "execution_count": 37,
   "id": "a17549fb",
   "metadata": {},
   "outputs": [],
   "source": [
    "class InvalidOperationError(Exception):\n",
    "    pass\n",
    "class Stream:\n",
    "    def __init__(self):\n",
    "        self.opened=False\n",
    "        \n",
    "    def open(self):\n",
    "        if self.opened:\n",
    "            raise InvalidOperationError(\"Stream is already open\")\n",
    "        self.opened=True\n",
    "        \n",
    "    def close(self):\n",
    "        if not self.opened:\n",
    "            raise InvalidOperationError(\"Stream is already close\")\n",
    "        self.opened=False\n",
    "        "
   ]
  },
  {
   "cell_type": "code",
   "execution_count": 38,
   "id": "57a9f586",
   "metadata": {},
   "outputs": [],
   "source": [
    "class FileStream(Stream):\n",
    "    def read(self):\n",
    "        print(\"Reading data from file\")\n",
    "        \n",
    "class NetworkStream(Stream):\n",
    "    def read(self):\n",
    "        print(\"Reading data from network\")"
   ]
  },
  {
   "cell_type": "markdown",
   "id": "ab837a11",
   "metadata": {},
   "source": [
    "# Abstract Class"
   ]
  },
  {
   "cell_type": "code",
   "execution_count": 39,
   "id": "e35f20db",
   "metadata": {},
   "outputs": [],
   "source": [
    "from abc import ABC , abstractmethod\n",
    "\n",
    "class InvalidOperationError(Exception):\n",
    "    pass\n",
    "class Stream(ABC):\n",
    "    def __init__(self):\n",
    "        self.opened=False\n",
    "        \n",
    "    def open(self):\n",
    "        if self.opened:\n",
    "            raise InvalidOperationError(\"Stream is already open\")\n",
    "        self.opened=True\n",
    "        \n",
    "    def close(self):\n",
    "        if not self.opened:\n",
    "            raise InvalidOperationError(\"Stream is already close\")\n",
    "        self.opened=False\n",
    "     \n",
    "    @abstractmethod\n",
    "    def read(self):\n",
    "        pass\n",
    "        "
   ]
  },
  {
   "cell_type": "code",
   "execution_count": 40,
   "id": "83f5297f",
   "metadata": {},
   "outputs": [],
   "source": [
    "class FileStream(Stream):\n",
    "    def read(self):\n",
    "        print(\"Reading data from file\")\n",
    "        \n",
    "class NetworkStream(Stream):\n",
    "    def read(self):\n",
    "        print(\"Reading data from network\")"
   ]
  },
  {
   "cell_type": "code",
   "execution_count": 41,
   "id": "1e752756",
   "metadata": {},
   "outputs": [],
   "source": [
    "class MemoryStream(Stream):\n",
    "    def read(self):\n",
    "        print(\"Reading data from memory \")\n",
    "    \n",
    "\n",
    "stream = MemoryStream()\n",
    "stream.open()"
   ]
  },
  {
   "cell_type": "code",
   "execution_count": null,
   "id": "525e727c",
   "metadata": {},
   "outputs": [],
   "source": []
  }
 ],
 "metadata": {
  "kernelspec": {
   "display_name": "Python 3 (ipykernel)",
   "language": "python",
   "name": "python3"
  },
  "language_info": {
   "codemirror_mode": {
    "name": "ipython",
    "version": 3
   },
   "file_extension": ".py",
   "mimetype": "text/x-python",
   "name": "python",
   "nbconvert_exporter": "python",
   "pygments_lexer": "ipython3",
   "version": "3.10.4"
  }
 },
 "nbformat": 4,
 "nbformat_minor": 5
}
