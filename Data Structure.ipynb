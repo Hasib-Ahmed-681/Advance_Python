{
 "cells": [
  {
   "cell_type": "code",
   "execution_count": 1,
   "id": "cca3ddc0",
   "metadata": {},
   "outputs": [],
   "source": [
    "letters= [\"a\",\"b\",\"c\"]\n",
    "matrix = [[0,1],[2,3]]\n",
    "zeros=[0]*100"
   ]
  },
  {
   "cell_type": "code",
   "execution_count": 2,
   "id": "f62dc14c",
   "metadata": {},
   "outputs": [],
   "source": [
    "zeros=[0]*5\n",
    "combined = zeros + letters"
   ]
  },
  {
   "cell_type": "code",
   "execution_count": 3,
   "id": "27bbb40e",
   "metadata": {},
   "outputs": [
    {
     "name": "stdout",
     "output_type": "stream",
     "text": [
      "[0, 0, 0, 0, 0, 'a', 'b', 'c']\n"
     ]
    }
   ],
   "source": [
    "print(combined)"
   ]
  },
  {
   "cell_type": "code",
   "execution_count": 4,
   "id": "36c58964",
   "metadata": {},
   "outputs": [
    {
     "name": "stdout",
     "output_type": "stream",
     "text": [
      "[0, 1, 2, 3, 4, 5, 6, 7, 8, 9, 10, 11, 12, 13, 14, 15, 16, 17, 18, 19]\n"
     ]
    }
   ],
   "source": [
    "numbers=list(range(20))\n",
    "print(numbers)"
   ]
  },
  {
   "cell_type": "code",
   "execution_count": 5,
   "id": "d3c37ebf",
   "metadata": {},
   "outputs": [
    {
     "name": "stdout",
     "output_type": "stream",
     "text": [
      "['H', 'e', 'l', 'l', 'o', ' ', 'W', 'o', 'r', 'l', 'd']\n"
     ]
    }
   ],
   "source": [
    "chars = list(\"Hello World\")\n",
    "print(chars)"
   ]
  },
  {
   "cell_type": "code",
   "execution_count": 6,
   "id": "d03ff234",
   "metadata": {},
   "outputs": [
    {
     "name": "stdout",
     "output_type": "stream",
     "text": [
      "11\n"
     ]
    }
   ],
   "source": [
    "print(len(chars))"
   ]
  },
  {
   "cell_type": "markdown",
   "id": "678a1770",
   "metadata": {},
   "source": [
    "# Accessing Item"
   ]
  },
  {
   "cell_type": "code",
   "execution_count": 7,
   "id": "e0d48c0e",
   "metadata": {},
   "outputs": [
    {
     "name": "stdout",
     "output_type": "stream",
     "text": [
      "a\n",
      "d\n"
     ]
    }
   ],
   "source": [
    "letters= [\"a\",\"b\",\"c\",\"d\"]\n",
    "print(letters[0])\n",
    "print(letters[-1])"
   ]
  },
  {
   "cell_type": "code",
   "execution_count": 8,
   "id": "3d9e904c",
   "metadata": {},
   "outputs": [
    {
     "name": "stdout",
     "output_type": "stream",
     "text": [
      "['A', 'b', 'c', 'd']\n"
     ]
    }
   ],
   "source": [
    "#modify\n",
    "letters[0]=\"A\"\n",
    "print(letters)"
   ]
  },
  {
   "cell_type": "code",
   "execution_count": 9,
   "id": "5caa0731",
   "metadata": {},
   "outputs": [
    {
     "name": "stdout",
     "output_type": "stream",
     "text": [
      "['A', 'b', 'c']\n",
      "['A', 'b', 'c']\n",
      "['A', 'b', 'c', 'd']\n",
      "['A', 'b', 'c', 'd']\n",
      "['A', 'c']\n"
     ]
    }
   ],
   "source": [
    "print(letters[0:3])\n",
    "print(letters[:3])\n",
    "print(letters[0:])\n",
    "print(letters[:])\n",
    "print(letters[::2])"
   ]
  },
  {
   "cell_type": "code",
   "execution_count": 10,
   "id": "350d3481",
   "metadata": {},
   "outputs": [],
   "source": [
    "numbers = list(range(20))"
   ]
  },
  {
   "cell_type": "code",
   "execution_count": 11,
   "id": "73669a9c",
   "metadata": {},
   "outputs": [
    {
     "data": {
      "text/plain": [
       "[19, 18, 17, 16, 15, 14, 13, 12, 11, 10, 9, 8, 7, 6, 5, 4, 3, 2, 1, 0]"
      ]
     },
     "execution_count": 11,
     "metadata": {},
     "output_type": "execute_result"
    }
   ],
   "source": [
    "numbers[::2]\n",
    "numbers[::-1]"
   ]
  },
  {
   "cell_type": "markdown",
   "id": "da81cc58",
   "metadata": {},
   "source": [
    "# Unpacking List"
   ]
  },
  {
   "cell_type": "code",
   "execution_count": 12,
   "id": "a8cbfa91",
   "metadata": {},
   "outputs": [],
   "source": [
    "numbers = [1,2,3]\n",
    "first = numbers[0]\n",
    "second = numbers[1]\n",
    "third = numbers[2]"
   ]
  },
  {
   "cell_type": "code",
   "execution_count": 13,
   "id": "7abab5e7",
   "metadata": {},
   "outputs": [],
   "source": [
    "#unpack into multiple variable\n",
    "numbers = [1,2,3]\n",
    "first,second,third = numbers"
   ]
  },
  {
   "cell_type": "code",
   "execution_count": 14,
   "id": "4da4701d",
   "metadata": {},
   "outputs": [
    {
     "name": "stdout",
     "output_type": "stream",
     "text": [
      "1\n",
      "[3, 4, 6, 4, 7, 2]\n"
     ]
    }
   ],
   "source": [
    "#without first and 2nd element all other elements goes to other\n",
    "numbers = [1,2,3,4,6,4,7,2]\n",
    "first,second,*other = numbers\n",
    "print(first)\n",
    "print(other)"
   ]
  },
  {
   "cell_type": "code",
   "execution_count": 15,
   "id": "f7ae7ad5",
   "metadata": {},
   "outputs": [
    {
     "name": "stdout",
     "output_type": "stream",
     "text": [
      "1 2\n",
      "[2, 3, 4, 6, 4, 7]\n"
     ]
    }
   ],
   "source": [
    "numbers = [1,2,3,4,6,4,7,2]\n",
    "first,*other,last = numbers\n",
    "print(first,last)\n",
    "print(other)"
   ]
  },
  {
   "cell_type": "markdown",
   "id": "c6b6cb67",
   "metadata": {},
   "source": [
    "# looping over list"
   ]
  },
  {
   "cell_type": "code",
   "execution_count": 16,
   "id": "d569139a",
   "metadata": {},
   "outputs": [
    {
     "name": "stdout",
     "output_type": "stream",
     "text": [
      "(0, 'a')\n",
      "(1, 'b')\n",
      "(2, 'c')\n"
     ]
    }
   ],
   "source": [
    "letters= [\"a\",\"b\",\"c\"]\n",
    "for letter in enumerate(letters):\n",
    "    print(letter)\n"
   ]
  },
  {
   "cell_type": "code",
   "execution_count": 17,
   "id": "91b0e356",
   "metadata": {},
   "outputs": [],
   "source": [
    "#enumerate built in function\n",
    "#return an enumerate object and its iterable\n",
    "#each iteration it will give a tuple\n",
    "#tuple like a list but its read-only"
   ]
  },
  {
   "cell_type": "code",
   "execution_count": 18,
   "id": "6d0db7fa",
   "metadata": {},
   "outputs": [
    {
     "name": "stdout",
     "output_type": "stream",
     "text": [
      "0 a\n",
      "1 b\n",
      "2 c\n"
     ]
    }
   ],
   "source": [
    "letters= [\"a\",\"b\",\"c\"]\n",
    "for index,letter in enumerate(letters):\n",
    "    print(index,letter)"
   ]
  },
  {
   "cell_type": "code",
   "execution_count": 19,
   "id": "56c80935",
   "metadata": {},
   "outputs": [],
   "source": [
    "#Adding Or Removing Items"
   ]
  },
  {
   "cell_type": "code",
   "execution_count": 20,
   "id": "7cbdadeb",
   "metadata": {},
   "outputs": [
    {
     "name": "stdout",
     "output_type": "stream",
     "text": [
      "['a', 'b', 'c', 'd']\n"
     ]
    }
   ],
   "source": [
    "letters= [\"a\",\"b\",\"c\"]\n",
    "\n",
    "#Add at the end\n",
    "letters.append(\"d\")\n",
    "print(letters)"
   ]
  },
  {
   "cell_type": "code",
   "execution_count": 21,
   "id": "15750f5a",
   "metadata": {},
   "outputs": [
    {
     "name": "stdout",
     "output_type": "stream",
     "text": [
      "['a', 'b', '-', 'c', 'd']\n"
     ]
    }
   ],
   "source": [
    "#Add at a specefic position\n",
    "letters.insert(2,\"-\")\n",
    "print(letters)"
   ]
  },
  {
   "cell_type": "code",
   "execution_count": 22,
   "id": "6332a6cd",
   "metadata": {},
   "outputs": [
    {
     "name": "stdout",
     "output_type": "stream",
     "text": [
      "['a', 'b', '-', 'c']\n"
     ]
    }
   ],
   "source": [
    "#Remove at the end\n",
    "letters.pop()\n",
    "print(letters)"
   ]
  },
  {
   "cell_type": "code",
   "execution_count": 23,
   "id": "b3ab53c0",
   "metadata": {},
   "outputs": [
    {
     "name": "stdout",
     "output_type": "stream",
     "text": [
      "['a', 'b', 'c']\n"
     ]
    }
   ],
   "source": [
    "letters.pop(2)\n",
    "print(letters)"
   ]
  },
  {
   "cell_type": "code",
   "execution_count": 24,
   "id": "e6d41787",
   "metadata": {},
   "outputs": [
    {
     "name": "stdout",
     "output_type": "stream",
     "text": [
      "['a', 'c']\n"
     ]
    }
   ],
   "source": [
    "#Remove an object but dnt know its index\n",
    "letters.remove(\"b\")\n",
    "print(letters)"
   ]
  },
  {
   "cell_type": "code",
   "execution_count": 25,
   "id": "8cb6fa86",
   "metadata": {},
   "outputs": [
    {
     "name": "stdout",
     "output_type": "stream",
     "text": [
      "[4, 5]\n"
     ]
    }
   ],
   "source": [
    "#also use delete for removing items\n",
    "numbers = [1,2,3,4,5]\n",
    "del numbers[0:3]\n",
    "#can delete a range of item\n",
    "print(numbers)"
   ]
  },
  {
   "cell_type": "code",
   "execution_count": 26,
   "id": "a7481de0",
   "metadata": {},
   "outputs": [
    {
     "name": "stdout",
     "output_type": "stream",
     "text": [
      "[]\n"
     ]
    }
   ],
   "source": [
    "#clear\n",
    "numbers.clear()\n",
    "print(numbers)"
   ]
  },
  {
   "cell_type": "markdown",
   "id": "e70a6a43",
   "metadata": {},
   "source": [
    "# Finding Items"
   ]
  },
  {
   "cell_type": "code",
   "execution_count": 27,
   "id": "38959337",
   "metadata": {},
   "outputs": [
    {
     "name": "stdout",
     "output_type": "stream",
     "text": [
      "0\n"
     ]
    },
    {
     "ename": "ValueError",
     "evalue": "'d' is not in list",
     "output_type": "error",
     "traceback": [
      "\u001b[1;31m---------------------------------------------------------------------------\u001b[0m",
      "\u001b[1;31mValueError\u001b[0m                                Traceback (most recent call last)",
      "Cell \u001b[1;32mIn [27], line 4\u001b[0m\n\u001b[0;32m      2\u001b[0m \u001b[38;5;28mprint\u001b[39m(letters\u001b[38;5;241m.\u001b[39mindex(\u001b[38;5;124m\"\u001b[39m\u001b[38;5;124ma\u001b[39m\u001b[38;5;124m\"\u001b[39m))\n\u001b[0;32m      3\u001b[0m \u001b[38;5;66;03m#take an object that doesent exist\u001b[39;00m\n\u001b[1;32m----> 4\u001b[0m \u001b[38;5;28mprint\u001b[39m(\u001b[43mletters\u001b[49m\u001b[38;5;241;43m.\u001b[39;49m\u001b[43mindex\u001b[49m\u001b[43m(\u001b[49m\u001b[38;5;124;43m\"\u001b[39;49m\u001b[38;5;124;43md\u001b[39;49m\u001b[38;5;124;43m\"\u001b[39;49m\u001b[43m)\u001b[49m)\n",
      "\u001b[1;31mValueError\u001b[0m: 'd' is not in list"
     ]
    }
   ],
   "source": [
    "letters= [\"a\",\"b\",\"c\"]\n",
    "print(letters.index(\"a\"))\n",
    "#take an object that doesent exist\n",
    "print(letters.index(\"d\"))"
   ]
  },
  {
   "cell_type": "code",
   "execution_count": null,
   "id": "d9eab858",
   "metadata": {},
   "outputs": [],
   "source": [
    "if \"d\" in letter:\n",
    "    print(letters.index(\"d\"))"
   ]
  },
  {
   "cell_type": "code",
   "execution_count": null,
   "id": "66439f7a",
   "metadata": {},
   "outputs": [],
   "source": [
    "letters.count(\"d\")"
   ]
  },
  {
   "cell_type": "code",
   "execution_count": null,
   "id": "a602bbfa",
   "metadata": {},
   "outputs": [],
   "source": [
    "#Sorting list"
   ]
  },
  {
   "cell_type": "code",
   "execution_count": null,
   "id": "ac41e15a",
   "metadata": {},
   "outputs": [],
   "source": [
    "numbers = [3,51,2,8,6]\n",
    "numbers.sort()\n",
    "numbers"
   ]
  },
  {
   "cell_type": "code",
   "execution_count": null,
   "id": "b101b84c",
   "metadata": {},
   "outputs": [],
   "source": [
    "numbers.sort(reverse=True)\n",
    "numbers"
   ]
  },
  {
   "cell_type": "code",
   "execution_count": null,
   "id": "93196a55",
   "metadata": {},
   "outputs": [],
   "source": [
    "numbers = [3,51,2,8,6]\n",
    "print(sorted(numbers))\n",
    "print(numbers)"
   ]
  },
  {
   "cell_type": "code",
   "execution_count": null,
   "id": "a1e6e5c1",
   "metadata": {},
   "outputs": [],
   "source": [
    "print(sorted(numbers,reverse=True))"
   ]
  },
  {
   "cell_type": "code",
   "execution_count": null,
   "id": "824143ee",
   "metadata": {},
   "outputs": [],
   "source": [
    "items= [\n",
    "    (\"Product1\",10),\n",
    "    (\"Product2\",9),\n",
    "    (\"Product3\",12),\n",
    "]\n",
    "\n",
    "items.sort()\n",
    "print(items)"
   ]
  },
  {
   "cell_type": "code",
   "execution_count": null,
   "id": "59e81fc2",
   "metadata": {},
   "outputs": [],
   "source": [
    "#python doesnt know how to sort this list"
   ]
  },
  {
   "cell_type": "code",
   "execution_count": null,
   "id": "c09f4a18",
   "metadata": {},
   "outputs": [],
   "source": [
    "def sort_item(item):\n",
    "    return item[1]\n",
    "    \n",
    "items.sort(key=sort_item)\n",
    "print(items)"
   ]
  },
  {
   "cell_type": "markdown",
   "id": "51e7ef7a",
   "metadata": {},
   "source": [
    "# Lambda function"
   ]
  },
  {
   "cell_type": "code",
   "execution_count": null,
   "id": "dd151614",
   "metadata": {},
   "outputs": [],
   "source": [
    "#lambda(key=lambda parameter:expression)\n",
    "items.sort(key=lambda item:item[1])\n",
    "print(items)"
   ]
  },
  {
   "cell_type": "markdown",
   "id": "f0602456",
   "metadata": {},
   "source": [
    "# Map Function"
   ]
  },
  {
   "cell_type": "code",
   "execution_count": null,
   "id": "d2d6aa24",
   "metadata": {},
   "outputs": [],
   "source": [
    "items= [\n",
    "    (\"Product1\",10),\n",
    "    (\"Product2\",9),\n",
    "    (\"Product3\",12),\n",
    "]\n",
    "\n",
    "prices = []\n",
    "\n",
    "for item in items:\n",
    "    prices.append(item[1])\n",
    "    \n",
    "print(prices)"
   ]
  },
  {
   "cell_type": "code",
   "execution_count": null,
   "id": "4f6268e2",
   "metadata": {},
   "outputs": [],
   "source": [
    "#better way to achive the same result"
   ]
  },
  {
   "cell_type": "code",
   "execution_count": null,
   "id": "65e5aeac",
   "metadata": {},
   "outputs": [],
   "source": [
    "x = map(lambda item: item[1],items) #take 2 parameter\n",
    "x #return a map object"
   ]
  },
  {
   "cell_type": "code",
   "execution_count": null,
   "id": "545803e3",
   "metadata": {},
   "outputs": [],
   "source": [
    "for item in x:\n",
    "    print(item)"
   ]
  },
  {
   "cell_type": "code",
   "execution_count": null,
   "id": "3ea2c047",
   "metadata": {},
   "outputs": [],
   "source": [
    "prices = list(map(lambda item: item[1],items))"
   ]
  },
  {
   "cell_type": "code",
   "execution_count": null,
   "id": "e2a1331a",
   "metadata": {},
   "outputs": [],
   "source": [
    "print(prices)"
   ]
  },
  {
   "cell_type": "code",
   "execution_count": null,
   "id": "674a898e",
   "metadata": {},
   "outputs": [],
   "source": [
    "#Filter Function"
   ]
  },
  {
   "cell_type": "code",
   "execution_count": null,
   "id": "348eaef5",
   "metadata": {},
   "outputs": [],
   "source": [
    "filterd= list(filter(lambda item: item[1] >= 10, items))\n",
    "print(filterd)"
   ]
  },
  {
   "cell_type": "markdown",
   "id": "3cdf5330",
   "metadata": {},
   "source": [
    "# List Comprehension"
   ]
  },
  {
   "cell_type": "code",
   "execution_count": null,
   "id": "3fa45b29",
   "metadata": {},
   "outputs": [],
   "source": [
    "prices = list(map(lambda item: item[1],items))\n",
    "filterd= list(filter(lambda item: item[1] >= 10, items))\n",
    "\n",
    "#we get same result if we use listt comprehension\n",
    "#[expression for item in item]\n",
    "\n",
    "prices2= [item[1] for item in items]\n",
    "print(prices2)\n",
    "\n",
    "filterd2 = [item for item in items if item[1] >=10]\n",
    "print(filterd2)"
   ]
  },
  {
   "cell_type": "code",
   "execution_count": null,
   "id": "d0a0d59c",
   "metadata": {},
   "outputs": [],
   "source": [
    "#zip Function"
   ]
  },
  {
   "cell_type": "code",
   "execution_count": null,
   "id": "83d3438a",
   "metadata": {},
   "outputs": [],
   "source": [
    "list1 = [1,2,3]\n",
    "list2 =[10,20,30]\n",
    "\n",
    "#combined into single list\n"
   ]
  },
  {
   "cell_type": "code",
   "execution_count": null,
   "id": "2cb5d397",
   "metadata": {},
   "outputs": [],
   "source": [
    "print(list(zip(list1,list2)))"
   ]
  },
  {
   "cell_type": "code",
   "execution_count": null,
   "id": "d2dacdcc",
   "metadata": {},
   "outputs": [],
   "source": [
    "print(list(zip(\"abc\",list1,list2)))"
   ]
  },
  {
   "cell_type": "markdown",
   "id": "64176e83",
   "metadata": {},
   "source": [
    "# Stack"
   ]
  },
  {
   "cell_type": "code",
   "execution_count": null,
   "id": "e9b890fc",
   "metadata": {},
   "outputs": [],
   "source": [
    "#last in first out"
   ]
  },
  {
   "cell_type": "code",
   "execution_count": null,
   "id": "294527f2",
   "metadata": {},
   "outputs": [],
   "source": [
    "browsing_session = []\n",
    "browsing_session.append(1)"
   ]
  },
  {
   "cell_type": "code",
   "execution_count": null,
   "id": "ebf47d42",
   "metadata": {},
   "outputs": [],
   "source": [
    "browsing_session.append(2)\n",
    "browsing_session.append(3)\n",
    "browsing_session.append(4)\n",
    "browsing_session"
   ]
  },
  {
   "cell_type": "code",
   "execution_count": null,
   "id": "7f6a652a",
   "metadata": {},
   "outputs": [],
   "source": [
    "last = browsing_session.pop()\n",
    "print(last)"
   ]
  },
  {
   "cell_type": "code",
   "execution_count": null,
   "id": "44f2eab4",
   "metadata": {},
   "outputs": [],
   "source": [
    "browsing_session"
   ]
  },
  {
   "cell_type": "code",
   "execution_count": null,
   "id": "15fbc99e",
   "metadata": {},
   "outputs": [],
   "source": [
    "print(\"redirect\",browsing_session[-1])"
   ]
  },
  {
   "cell_type": "code",
   "execution_count": null,
   "id": "f185b139",
   "metadata": {},
   "outputs": [],
   "source": [
    "#check if the stack is empty\n",
    "if not browsing_session:\n",
    "    print(\"disable back button\")"
   ]
  },
  {
   "cell_type": "code",
   "execution_count": null,
   "id": "13d47584",
   "metadata": {},
   "outputs": [],
   "source": [
    "browsing_session = []\n",
    "browsing_session.append(1)\n",
    "browsing_session.pop()\n",
    "if not browsing_session:\n",
    "    browsing_session[-1]"
   ]
  },
  {
   "cell_type": "markdown",
   "id": "4e6c9a82",
   "metadata": {},
   "source": [
    "# Queues"
   ]
  },
  {
   "cell_type": "code",
   "execution_count": 28,
   "id": "f819817f",
   "metadata": {},
   "outputs": [],
   "source": [
    "#First in First Out"
   ]
  },
  {
   "cell_type": "code",
   "execution_count": 30,
   "id": "12339b6d",
   "metadata": {},
   "outputs": [],
   "source": [
    "from collections import deque"
   ]
  },
  {
   "cell_type": "code",
   "execution_count": 31,
   "id": "f65153ed",
   "metadata": {},
   "outputs": [
    {
     "name": "stdout",
     "output_type": "stream",
     "text": [
      "deque([2, 3])\n"
     ]
    }
   ],
   "source": [
    "queue = deque([])\n",
    "queue.append(1)\n",
    "queue.append(2)\n",
    "queue.append(3)\n",
    "queue.popleft()\n",
    "print(queue)"
   ]
  },
  {
   "cell_type": "code",
   "execution_count": 32,
   "id": "dfa6d4c1",
   "metadata": {},
   "outputs": [],
   "source": [
    "if not queue:\n",
    "    print(\"Empty\")"
   ]
  },
  {
   "cell_type": "markdown",
   "id": "b84841c1",
   "metadata": {},
   "source": [
    "# Tuple"
   ]
  },
  {
   "cell_type": "code",
   "execution_count": 33,
   "id": "f90080cf",
   "metadata": {},
   "outputs": [
    {
     "name": "stdout",
     "output_type": "stream",
     "text": [
      "<class 'tuple'>\n"
     ]
    }
   ],
   "source": [
    "point = (1,2)\n",
    "print(type(point))"
   ]
  },
  {
   "cell_type": "code",
   "execution_count": 34,
   "id": "5680810c",
   "metadata": {},
   "outputs": [
    {
     "name": "stdout",
     "output_type": "stream",
     "text": [
      "<class 'tuple'>\n"
     ]
    }
   ],
   "source": [
    "point = 1,\n",
    "print(type(point))"
   ]
  },
  {
   "cell_type": "code",
   "execution_count": 36,
   "id": "38dec603",
   "metadata": {},
   "outputs": [
    {
     "name": "stdout",
     "output_type": "stream",
     "text": [
      "(1, 2, 3, 4)\n"
     ]
    }
   ],
   "source": [
    "point = (1,2) + (3,4)\n",
    "print(point)"
   ]
  },
  {
   "cell_type": "code",
   "execution_count": 37,
   "id": "85c4358e",
   "metadata": {},
   "outputs": [
    {
     "name": "stdout",
     "output_type": "stream",
     "text": [
      "(1, 2, 1, 2, 1, 2)\n"
     ]
    }
   ],
   "source": [
    "point = (1,2) *3\n",
    "print(point)"
   ]
  },
  {
   "cell_type": "code",
   "execution_count": 38,
   "id": "b5557100",
   "metadata": {},
   "outputs": [
    {
     "name": "stdout",
     "output_type": "stream",
     "text": [
      "(1, 2, 3)\n"
     ]
    }
   ],
   "source": [
    "point= tuple([1,2,3])\n",
    "print(point)"
   ]
  },
  {
   "cell_type": "code",
   "execution_count": 39,
   "id": "41f72035",
   "metadata": {},
   "outputs": [
    {
     "name": "stdout",
     "output_type": "stream",
     "text": [
      "1\n",
      "(1, 2)\n"
     ]
    }
   ],
   "source": [
    "print(point[0])\n",
    "print(point[0:2])\n",
    "x,y,z = point\n",
    "if 10 in point:\n",
    "    print(\"exist\")"
   ]
  },
  {
   "cell_type": "code",
   "execution_count": 40,
   "id": "0ac01c92",
   "metadata": {},
   "outputs": [
    {
     "ename": "TypeError",
     "evalue": "'tuple' object does not support item assignment",
     "output_type": "error",
     "traceback": [
      "\u001b[1;31m---------------------------------------------------------------------------\u001b[0m",
      "\u001b[1;31mTypeError\u001b[0m                                 Traceback (most recent call last)",
      "Cell \u001b[1;32mIn [40], line 1\u001b[0m\n\u001b[1;32m----> 1\u001b[0m \u001b[43mpoint\u001b[49m\u001b[43m[\u001b[49m\u001b[38;5;241;43m0\u001b[39;49m\u001b[43m]\u001b[49m\u001b[38;5;241m=\u001b[39m\u001b[38;5;241m10\u001b[39m\n",
      "\u001b[1;31mTypeError\u001b[0m: 'tuple' object does not support item assignment"
     ]
    }
   ],
   "source": [
    "point[0]=10"
   ]
  },
  {
   "cell_type": "markdown",
   "id": "eff977dd",
   "metadata": {},
   "source": [
    "# Swapping Variable"
   ]
  },
  {
   "cell_type": "code",
   "execution_count": 41,
   "id": "1b7352a6",
   "metadata": {},
   "outputs": [
    {
     "name": "stdout",
     "output_type": "stream",
     "text": [
      "x 11\n",
      "y 10\n"
     ]
    }
   ],
   "source": [
    "x=10\n",
    "y=11\n",
    "\n",
    "x,y=y,x\n",
    "\n",
    "print(\"x\",x)\n",
    "print(\"y\",y)"
   ]
  },
  {
   "cell_type": "markdown",
   "id": "bd3be57b",
   "metadata": {},
   "source": [
    "# Arrays"
   ]
  },
  {
   "cell_type": "code",
   "execution_count": 42,
   "id": "0a5f789f",
   "metadata": {},
   "outputs": [],
   "source": [
    "#use for large list of numbers"
   ]
  },
  {
   "cell_type": "code",
   "execution_count": 43,
   "id": "4b962984",
   "metadata": {},
   "outputs": [],
   "source": [
    "from array import array"
   ]
  },
  {
   "cell_type": "code",
   "execution_count": 48,
   "id": "bbe6bebb",
   "metadata": {},
   "outputs": [],
   "source": [
    "numbers = array(\"i\",[1,2,3,4])\n",
    "# i= int [typecode]"
   ]
  },
  {
   "cell_type": "code",
   "execution_count": 49,
   "id": "e6291349",
   "metadata": {},
   "outputs": [],
   "source": [
    "numbers.append(5)"
   ]
  },
  {
   "cell_type": "code",
   "execution_count": 50,
   "id": "82501e55",
   "metadata": {},
   "outputs": [
    {
     "data": {
      "text/plain": [
       "array('i', [1, 2, 67, 3, 4, 5])"
      ]
     },
     "execution_count": 50,
     "metadata": {},
     "output_type": "execute_result"
    }
   ],
   "source": [
    "numbers.insert(2,67)\n",
    "numbers"
   ]
  },
  {
   "cell_type": "code",
   "execution_count": 51,
   "id": "a32a8bca",
   "metadata": {},
   "outputs": [
    {
     "name": "stdout",
     "output_type": "stream",
     "text": [
      "array('i', [1, 2, 67, 3, 4, 5])\n"
     ]
    }
   ],
   "source": [
    "print(numbers)"
   ]
  },
  {
   "cell_type": "code",
   "execution_count": 52,
   "id": "28e75dfc",
   "metadata": {},
   "outputs": [
    {
     "ename": "TypeError",
     "evalue": "'float' object cannot be interpreted as an integer",
     "output_type": "error",
     "traceback": [
      "\u001b[1;31m---------------------------------------------------------------------------\u001b[0m",
      "\u001b[1;31mTypeError\u001b[0m                                 Traceback (most recent call last)",
      "Cell \u001b[1;32mIn [52], line 1\u001b[0m\n\u001b[1;32m----> 1\u001b[0m \u001b[43mnumbers\u001b[49m\u001b[43m[\u001b[49m\u001b[38;5;241;43m0\u001b[39;49m\u001b[43m]\u001b[49m\u001b[38;5;241m=\u001b[39m\u001b[38;5;241m1.0\u001b[39m\n",
      "\u001b[1;31mTypeError\u001b[0m: 'float' object cannot be interpreted as an integer"
     ]
    }
   ],
   "source": [
    "numbers[0]=1.0"
   ]
  },
  {
   "cell_type": "markdown",
   "id": "14da8ae9",
   "metadata": {},
   "source": [
    "# Sets"
   ]
  },
  {
   "cell_type": "code",
   "execution_count": 54,
   "id": "846cf271",
   "metadata": {},
   "outputs": [],
   "source": [
    "#a collections with no duplicates"
   ]
  },
  {
   "cell_type": "code",
   "execution_count": 58,
   "id": "0c89b943",
   "metadata": {},
   "outputs": [],
   "source": [
    "numbers = [1,1,2,3,2,3,4]\n",
    "first=set(numbers)\n",
    "second = {1,5}"
   ]
  },
  {
   "cell_type": "code",
   "execution_count": 62,
   "id": "0a03dc3f",
   "metadata": {},
   "outputs": [
    {
     "name": "stdout",
     "output_type": "stream",
     "text": [
      "{1, 2, 3, 4, 5}\n",
      "{1}\n",
      "{2, 3, 4}\n",
      "{2, 3, 4, 5}\n"
     ]
    }
   ],
   "source": [
    "print(first | second)\n",
    "print(first & second)\n",
    "print(first - second)\n",
    "print(first ^ second)"
   ]
  },
  {
   "cell_type": "code",
   "execution_count": 65,
   "id": "13d6e319",
   "metadata": {},
   "outputs": [
    {
     "name": "stdout",
     "output_type": "stream",
     "text": [
      "yes\n"
     ]
    }
   ],
   "source": [
    "#print(first[0]) cant check\n",
    "if 1 in first:\n",
    "    print(\"yes\")"
   ]
  },
  {
   "cell_type": "markdown",
   "id": "67043613",
   "metadata": {},
   "source": [
    "# Dictionary"
   ]
  },
  {
   "cell_type": "code",
   "execution_count": 66,
   "id": "7dfcf5e5",
   "metadata": {},
   "outputs": [],
   "source": [
    "# a collection of key value pairs"
   ]
  },
  {
   "cell_type": "code",
   "execution_count": 67,
   "id": "7644da8d",
   "metadata": {},
   "outputs": [],
   "source": [
    "# name->contact\n",
    "# name= key, contact=value"
   ]
  },
  {
   "cell_type": "code",
   "execution_count": 68,
   "id": "a7b5004b",
   "metadata": {},
   "outputs": [],
   "source": [
    "point={\"x\":1,\"y\":2}\n",
    "# only use immutable types for keys"
   ]
  },
  {
   "cell_type": "code",
   "execution_count": 69,
   "id": "e75aa81c",
   "metadata": {},
   "outputs": [
    {
     "data": {
      "text/plain": [
       "1"
      ]
     },
     "execution_count": 69,
     "metadata": {},
     "output_type": "execute_result"
    }
   ],
   "source": [
    "point = dict(x=1,y=2)\n",
    "point[\"x\"]"
   ]
  },
  {
   "cell_type": "code",
   "execution_count": 70,
   "id": "839df55f",
   "metadata": {},
   "outputs": [
    {
     "name": "stdout",
     "output_type": "stream",
     "text": [
      "{'x': 10, 'y': 2}\n"
     ]
    }
   ],
   "source": [
    "point[\"x\"]=10\n",
    "print(point)"
   ]
  },
  {
   "cell_type": "code",
   "execution_count": 71,
   "id": "9d39f51d",
   "metadata": {},
   "outputs": [],
   "source": [
    "point[\"z\"]=20"
   ]
  },
  {
   "cell_type": "code",
   "execution_count": 72,
   "id": "81a46cc0",
   "metadata": {},
   "outputs": [],
   "source": [
    "# print(point[\"a\"])\n",
    "if \"a\" in point:\n",
    "    print(point[\"a\"])"
   ]
  },
  {
   "cell_type": "code",
   "execution_count": 74,
   "id": "553dc84d",
   "metadata": {},
   "outputs": [
    {
     "name": "stdout",
     "output_type": "stream",
     "text": [
      "None\n",
      "0\n"
     ]
    }
   ],
   "source": [
    "print(point.get(\"a\"))\n",
    "print(point.get(\"a\",0))"
   ]
  },
  {
   "cell_type": "code",
   "execution_count": 75,
   "id": "8acb535f",
   "metadata": {},
   "outputs": [
    {
     "name": "stdout",
     "output_type": "stream",
     "text": [
      "{'y': 2, 'z': 20}\n"
     ]
    }
   ],
   "source": [
    "del point[\"x\"]\n",
    "print(point)"
   ]
  },
  {
   "cell_type": "code",
   "execution_count": 76,
   "id": "6dfb4056",
   "metadata": {},
   "outputs": [
    {
     "name": "stdout",
     "output_type": "stream",
     "text": [
      "y\n",
      "z\n"
     ]
    }
   ],
   "source": [
    "for i in point: #get key\n",
    "    print(i)"
   ]
  },
  {
   "cell_type": "code",
   "execution_count": 77,
   "id": "cc15b623",
   "metadata": {},
   "outputs": [
    {
     "name": "stdout",
     "output_type": "stream",
     "text": [
      "y 2\n",
      "z 20\n"
     ]
    }
   ],
   "source": [
    "for key in point: #get key\n",
    "    print(key,point[key])"
   ]
  },
  {
   "cell_type": "code",
   "execution_count": 78,
   "id": "b7941aba",
   "metadata": {},
   "outputs": [
    {
     "name": "stdout",
     "output_type": "stream",
     "text": [
      "('y', 2)\n",
      "('z', 20)\n"
     ]
    }
   ],
   "source": [
    "for x in point.items():\n",
    "    print(x)"
   ]
  },
  {
   "cell_type": "code",
   "execution_count": 79,
   "id": "138efb96",
   "metadata": {},
   "outputs": [
    {
     "name": "stdout",
     "output_type": "stream",
     "text": [
      "y 2\n",
      "z 20\n"
     ]
    }
   ],
   "source": [
    "#unpack\n",
    "for key,value in point.items():\n",
    "    print(key,value)"
   ]
  },
  {
   "cell_type": "markdown",
   "id": "0dd4b3d3",
   "metadata": {},
   "source": [
    "# Dictionary Comprehension"
   ]
  },
  {
   "cell_type": "code",
   "execution_count": 80,
   "id": "a9543071",
   "metadata": {},
   "outputs": [],
   "source": [
    "values = []\n",
    "for x in range(5):\n",
    "    values.append(x*2)"
   ]
  },
  {
   "cell_type": "code",
   "execution_count": 81,
   "id": "cdd20914",
   "metadata": {},
   "outputs": [],
   "source": [
    "#[x*2 for x in range(5)]  comprehension"
   ]
  },
  {
   "cell_type": "code",
   "execution_count": 82,
   "id": "d15bfaca",
   "metadata": {},
   "outputs": [],
   "source": [
    "values=[x*2 for x in range(5)] "
   ]
  },
  {
   "cell_type": "code",
   "execution_count": 83,
   "id": "5f3c0233",
   "metadata": {},
   "outputs": [
    {
     "data": {
      "text/plain": [
       "[0, 2, 4, 6, 8]"
      ]
     },
     "execution_count": 83,
     "metadata": {},
     "output_type": "execute_result"
    }
   ],
   "source": [
    "values"
   ]
  },
  {
   "cell_type": "code",
   "execution_count": 84,
   "id": "598f13e1",
   "metadata": {},
   "outputs": [
    {
     "data": {
      "text/plain": [
       "{0, 2, 4, 6, 8}"
      ]
     },
     "execution_count": 84,
     "metadata": {},
     "output_type": "execute_result"
    }
   ],
   "source": [
    "values={x*2 for x in range(5)}\n",
    "values"
   ]
  },
  {
   "cell_type": "code",
   "execution_count": 85,
   "id": "d0db673b",
   "metadata": {},
   "outputs": [
    {
     "data": {
      "text/plain": [
       "{0: 0, 1: 2, 2: 4, 3: 6, 4: 8}"
      ]
     },
     "execution_count": 85,
     "metadata": {},
     "output_type": "execute_result"
    }
   ],
   "source": [
    "#create dictionary using comprehension\n",
    "values={x:x*2 for x in range(5)} #x:->key\n",
    "values"
   ]
  },
  {
   "cell_type": "markdown",
   "id": "b6dd3b34",
   "metadata": {},
   "source": [
    "# Generator Expression"
   ]
  },
  {
   "cell_type": "code",
   "execution_count": 87,
   "id": "4d09a5ff",
   "metadata": {},
   "outputs": [],
   "source": [
    "#Generator object is iterable"
   ]
  },
  {
   "cell_type": "code",
   "execution_count": 89,
   "id": "2b2a26d4",
   "metadata": {},
   "outputs": [
    {
     "name": "stdout",
     "output_type": "stream",
     "text": [
      "0\n",
      "2\n",
      "4\n",
      "6\n",
      "8\n"
     ]
    }
   ],
   "source": [
    "values=(x*2 for x in range(5))\n",
    "values\n",
    "for x in values:\n",
    "    print(x)"
   ]
  },
  {
   "cell_type": "code",
   "execution_count": 90,
   "id": "c31aed7b",
   "metadata": {},
   "outputs": [],
   "source": [
    "#get size of the generator"
   ]
  },
  {
   "cell_type": "code",
   "execution_count": 91,
   "id": "1a06c4d5",
   "metadata": {},
   "outputs": [],
   "source": [
    "from sys import getsizeof"
   ]
  },
  {
   "cell_type": "code",
   "execution_count": 95,
   "id": "2afe11dc",
   "metadata": {},
   "outputs": [
    {
     "name": "stdout",
     "output_type": "stream",
     "text": [
      "gen: 104\n"
     ]
    }
   ],
   "source": [
    "values=(x*2 for x in range(1000))\n",
    "print(\"gen:\",getsizeof(values))"
   ]
  },
  {
   "cell_type": "code",
   "execution_count": 96,
   "id": "d71af1f1",
   "metadata": {},
   "outputs": [
    {
     "name": "stdout",
     "output_type": "stream",
     "text": [
      "gen: 104\n",
      "list: 800984\n"
     ]
    }
   ],
   "source": [
    "values=(x*2 for x in range(100000))\n",
    "print(\"gen:\",getsizeof(values))\n",
    "values=[x*2 for x in range(100000)]\n",
    "print(\"list:\",getsizeof(values))"
   ]
  },
  {
   "cell_type": "code",
   "execution_count": 98,
   "id": "47e33dfd",
   "metadata": {},
   "outputs": [
    {
     "name": "stdout",
     "output_type": "stream",
     "text": [
      "gen: 104\n"
     ]
    }
   ],
   "source": [
    "values=(x*2 for x in range(1000))\n",
    "print(\"gen:\",getsizeof(values))\n",
    "# print(len(values)) get error"
   ]
  },
  {
   "cell_type": "markdown",
   "id": "8757109c",
   "metadata": {},
   "source": [
    "# Unpacking Operator"
   ]
  },
  {
   "cell_type": "code",
   "execution_count": 101,
   "id": "9ac63c72",
   "metadata": {},
   "outputs": [
    {
     "name": "stdout",
     "output_type": "stream",
     "text": [
      "[1, 2, 3]\n"
     ]
    }
   ],
   "source": [
    "numbers = [1,2,3]\n",
    "print(numbers)"
   ]
  },
  {
   "cell_type": "code",
   "execution_count": 103,
   "id": "c8f379cb",
   "metadata": {},
   "outputs": [
    {
     "name": "stdout",
     "output_type": "stream",
     "text": [
      "1 2 3\n"
     ]
    }
   ],
   "source": [
    "# print individual number\n",
    "print(1,2,3)"
   ]
  },
  {
   "cell_type": "code",
   "execution_count": 104,
   "id": "ee5256c2",
   "metadata": {},
   "outputs": [
    {
     "name": "stdout",
     "output_type": "stream",
     "text": [
      "1 2 3\n"
     ]
    }
   ],
   "source": [
    "print(*numbers) #unpacking operator"
   ]
  },
  {
   "cell_type": "code",
   "execution_count": 105,
   "id": "33b026dc",
   "metadata": {},
   "outputs": [
    {
     "name": "stdout",
     "output_type": "stream",
     "text": [
      "[0, 1, 2, 3, 4]\n"
     ]
    }
   ],
   "source": [
    "value=list(range(5))\n",
    "print(value)"
   ]
  },
  {
   "cell_type": "code",
   "execution_count": 107,
   "id": "21359038",
   "metadata": {},
   "outputs": [
    {
     "ename": "SyntaxError",
     "evalue": "invalid syntax (2295592307.py, line 1)",
     "output_type": "error",
     "traceback": [
      "\u001b[1;36m  Cell \u001b[1;32mIn [107], line 1\u001b[1;36m\u001b[0m\n\u001b[1;33m    values[*range(5)]\u001b[0m\n\u001b[1;37m           ^\u001b[0m\n\u001b[1;31mSyntaxError\u001b[0m\u001b[1;31m:\u001b[0m invalid syntax\n"
     ]
    }
   ],
   "source": [
    "values[range(5)]"
   ]
  },
  {
   "cell_type": "code",
   "execution_count": null,
   "id": "d7033c3f",
   "metadata": {},
   "outputs": [],
   "source": []
  }
 ],
 "metadata": {
  "kernelspec": {
   "display_name": "Python 3 (ipykernel)",
   "language": "python",
   "name": "python3"
  },
  "language_info": {
   "codemirror_mode": {
    "name": "ipython",
    "version": 3
   },
   "file_extension": ".py",
   "mimetype": "text/x-python",
   "name": "python",
   "nbconvert_exporter": "python",
   "pygments_lexer": "ipython3",
   "version": "3.10.4"
  }
 },
 "nbformat": 4,
 "nbformat_minor": 5
}
