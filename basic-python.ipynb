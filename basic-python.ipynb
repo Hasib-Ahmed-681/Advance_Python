{
 "cells": [
  {
   "cell_type": "markdown",
   "id": "28364be6",
   "metadata": {},
   "source": [
    "# variables"
   ]
  },
  {
   "cell_type": "code",
   "execution_count": 1,
   "id": "f84e3adb",
   "metadata": {},
   "outputs": [],
   "source": [
    "student_counts =1000\n",
    "rating = 4.99\n",
    "is_published = True\n",
    "course_name = \"Python\"\n",
    "multiple_line=\"\"\"\n",
    "multiple\n",
    "line\n",
    "\"\"\"\n",
    "x,y=1,2 # equivalent to x=1,y=2\n",
    "\n"
   ]
  },
  {
   "cell_type": "markdown",
   "id": "fd4b2eb6",
   "metadata": {},
   "source": [
    "# dynamic nature of python"
   ]
  },
  {
   "cell_type": "code",
   "execution_count": 2,
   "id": "4963cebf",
   "metadata": {},
   "outputs": [],
   "source": [
    "#Programming language have two type of typing\n",
    "#static-> c++,c#,java\n",
    "#dynamic-> javascript,ruby,python"
   ]
  },
  {
   "cell_type": "code",
   "execution_count": 3,
   "id": "ae43a944",
   "metadata": {},
   "outputs": [
    {
     "name": "stdout",
     "output_type": "stream",
     "text": [
      "<class 'int'>\n"
     ]
    }
   ],
   "source": [
    "  print(type(student_counts))"
   ]
  },
  {
   "cell_type": "code",
   "execution_count": 4,
   "id": "6b041ff8",
   "metadata": {},
   "outputs": [],
   "source": [
    "#python is an object oriented language   \n",
    "#int is a instances of class\n"
   ]
  },
  {
   "cell_type": "code",
   "execution_count": 5,
   "id": "58ab6737",
   "metadata": {},
   "outputs": [
    {
     "name": "stdout",
     "output_type": "stream",
     "text": [
      "<class 'float'>\n",
      "<class 'bool'>\n",
      "<class 'str'>\n"
     ]
    }
   ],
   "source": [
    "print(type(1.1))\n",
    "print(type(True))\n",
    "print(type(\"hello\"))"
   ]
  },
  {
   "cell_type": "markdown",
   "id": "1492a117",
   "metadata": {},
   "source": [
    "# Type Annotation"
   ]
  },
  {
   "cell_type": "code",
   "execution_count": 6,
   "id": "afa373c9",
   "metadata": {},
   "outputs": [
    {
     "name": "stdout",
     "output_type": "stream",
     "text": [
      "Python\n"
     ]
    }
   ],
   "source": [
    "age=20\n",
    "age=\"Python\"\n",
    "print(age)"
   ]
  },
  {
   "cell_type": "code",
   "execution_count": 67,
   "id": "0878ae4a",
   "metadata": {},
   "outputs": [
    {
     "name": "stdout",
     "output_type": "stream",
     "text": [
      "Python\n"
     ]
    }
   ],
   "source": [
    "age: int=20  #annotation\n",
    "age=\"Python\" \n",
    "print(age)"
   ]
  },
  {
   "cell_type": "markdown",
   "id": "a23db9b9",
   "metadata": {},
   "source": [
    "# Mutable and Immutable type\n",
    "#immutable= value can not changed"
   ]
  },
  {
   "cell_type": "code",
   "execution_count": 8,
   "id": "483f4608",
   "metadata": {},
   "outputs": [
    {
     "name": "stdout",
     "output_type": "stream",
     "text": [
      "2610608603376\n"
     ]
    }
   ],
   "source": [
    "x=1\n",
    "print(id(x)) #return the addresses of memory location that x references"
   ]
  },
  {
   "cell_type": "code",
   "execution_count": 9,
   "id": "2a015cba",
   "metadata": {},
   "outputs": [
    {
     "name": "stdout",
     "output_type": "stream",
     "text": [
      "2610608603408\n"
     ]
    }
   ],
   "source": [
    "x=x+1\n",
    "print(id(x))"
   ]
  },
  {
   "cell_type": "code",
   "execution_count": 10,
   "id": "2ef8d308",
   "metadata": {},
   "outputs": [],
   "source": [
    "#allocate new memory for update value\n",
    "#bcs integers are immutable "
   ]
  },
  {
   "cell_type": "code",
   "execution_count": 11,
   "id": "47eff876",
   "metadata": {},
   "outputs": [
    {
     "name": "stdout",
     "output_type": "stream",
     "text": [
      "2610690591296\n",
      "2610690591296\n"
     ]
    }
   ],
   "source": [
    "x=[1,2,3]\n",
    "print(id(x))\n",
    "x.append(4)\n",
    "print(id(x))"
   ]
  },
  {
   "cell_type": "code",
   "execution_count": 12,
   "id": "4305fd87",
   "metadata": {},
   "outputs": [],
   "source": [
    "#the address is not change\n",
    "#bcs list is mutable"
   ]
  },
  {
   "cell_type": "markdown",
   "id": "0d0d48cd",
   "metadata": {},
   "source": [
    "# String"
   ]
  },
  {
   "cell_type": "code",
   "execution_count": 13,
   "id": "a0c1d74d",
   "metadata": {},
   "outputs": [],
   "source": [
    "#string is immutable"
   ]
  },
  {
   "cell_type": "code",
   "execution_count": 14,
   "id": "d7f212be",
   "metadata": {},
   "outputs": [],
   "source": [
    "course = \"Python Programming\""
   ]
  },
  {
   "cell_type": "code",
   "execution_count": 15,
   "id": "ec732a84",
   "metadata": {},
   "outputs": [
    {
     "data": {
      "text/plain": [
       "18"
      ]
     },
     "execution_count": 15,
     "metadata": {},
     "output_type": "execute_result"
    }
   ],
   "source": [
    "len(course) #return number of character in the course\n"
   ]
  },
  {
   "cell_type": "code",
   "execution_count": 16,
   "id": "859891e0",
   "metadata": {},
   "outputs": [
    {
     "data": {
      "text/plain": [
       "'P'"
      ]
     },
     "execution_count": 16,
     "metadata": {},
     "output_type": "execute_result"
    }
   ],
   "source": [
    "course[0] #first character"
   ]
  },
  {
   "cell_type": "code",
   "execution_count": 17,
   "id": "47f0811f",
   "metadata": {},
   "outputs": [
    {
     "data": {
      "text/plain": [
       "'g'"
      ]
     },
     "execution_count": 17,
     "metadata": {},
     "output_type": "execute_result"
    }
   ],
   "source": [
    "course[-1] #last character"
   ]
  },
  {
   "cell_type": "code",
   "execution_count": 18,
   "id": "5f610127",
   "metadata": {},
   "outputs": [
    {
     "data": {
      "text/plain": [
       "'Pyt'"
      ]
     },
     "execution_count": 18,
     "metadata": {},
     "output_type": "execute_result"
    }
   ],
   "source": [
    "course[0:3] #slicing 0-2 char\n"
   ]
  },
  {
   "cell_type": "code",
   "execution_count": 19,
   "id": "65dc3450",
   "metadata": {},
   "outputs": [
    {
     "data": {
      "text/plain": [
       "'Pyt'"
      ]
     },
     "execution_count": 19,
     "metadata": {},
     "output_type": "execute_result"
    }
   ],
   "source": [
    "course[:3] #same result"
   ]
  },
  {
   "cell_type": "code",
   "execution_count": 20,
   "id": "66cb9e42",
   "metadata": {},
   "outputs": [
    {
     "data": {
      "text/plain": [
       "'Python Programming'"
      ]
     },
     "execution_count": 20,
     "metadata": {},
     "output_type": "execute_result"
    }
   ],
   "source": [
    "course[0:] #return entire string"
   ]
  },
  {
   "cell_type": "code",
   "execution_count": 21,
   "id": "6bd7eb0e",
   "metadata": {},
   "outputs": [
    {
     "data": {
      "text/plain": [
       "'Python Programming'"
      ]
     },
     "execution_count": 21,
     "metadata": {},
     "output_type": "execute_result"
    }
   ],
   "source": [
    "course[:] #same result"
   ]
  },
  {
   "cell_type": "code",
   "execution_count": 22,
   "id": "49d2713a",
   "metadata": {},
   "outputs": [
    {
     "name": "stdout",
     "output_type": "stream",
     "text": [
      "2610690627648\n",
      "2610614407280\n"
     ]
    }
   ],
   "source": [
    "print(id(course))\n",
    "print(id(course[0]))"
   ]
  },
  {
   "cell_type": "markdown",
   "id": "f737286b",
   "metadata": {},
   "source": [
    "# Escape Sequence\n"
   ]
  },
  {
   "cell_type": "code",
   "execution_count": 23,
   "id": "c0241eb8",
   "metadata": {},
   "outputs": [],
   "source": [
    "message = \"Python \\\"Programming\"\n",
    "# (\\) has a special meaning and we refer it an escape char"
   ]
  },
  {
   "cell_type": "code",
   "execution_count": 24,
   "id": "ad86350e",
   "metadata": {},
   "outputs": [
    {
     "name": "stdout",
     "output_type": "stream",
     "text": [
      "Python \"Programming\n"
     ]
    }
   ],
   "source": [
    "print(message)"
   ]
  },
  {
   "cell_type": "code",
   "execution_count": 25,
   "id": "671727ec",
   "metadata": {},
   "outputs": [],
   "source": [
    "# escape sequence in python\n",
    "# \\\"\n",
    "# \\'\n",
    "# \\\\\n",
    "# \\n "
   ]
  },
  {
   "cell_type": "code",
   "execution_count": 26,
   "id": "e7912045",
   "metadata": {},
   "outputs": [
    {
     "name": "stdout",
     "output_type": "stream",
     "text": [
      "python\n",
      "programming\n",
      "language\n",
      "\n"
     ]
    }
   ],
   "source": [
    "message =\"\"\"python\n",
    "programming\n",
    "language\n",
    "\"\"\"\n",
    "\n",
    "print(message)"
   ]
  },
  {
   "cell_type": "markdown",
   "id": "fcfe8802",
   "metadata": {},
   "source": [
    "# Formatted String"
   ]
  },
  {
   "cell_type": "code",
   "execution_count": 27,
   "id": "2f6b4f8a",
   "metadata": {},
   "outputs": [],
   "source": [
    "first=\"Ab\"\n",
    "last=\"Cd\"\n",
    "full=first+\" \"+last #concatinating"
   ]
  },
  {
   "cell_type": "code",
   "execution_count": 28,
   "id": "f3887778",
   "metadata": {},
   "outputs": [
    {
     "name": "stdout",
     "output_type": "stream",
     "text": [
      "Ab Cd\n"
     ]
    }
   ],
   "source": [
    "print(full) "
   ]
  },
  {
   "cell_type": "code",
   "execution_count": 29,
   "id": "438b56e8",
   "metadata": {},
   "outputs": [
    {
     "name": "stdout",
     "output_type": "stream",
     "text": [
      "Ab Cd\n"
     ]
    }
   ],
   "source": [
    "full = f\"{first} {last}\" #formatting string\n",
    "print(full)"
   ]
  },
  {
   "cell_type": "code",
   "execution_count": 30,
   "id": "b83bffd9",
   "metadata": {},
   "outputs": [],
   "source": [
    "#Useful String method"
   ]
  },
  {
   "cell_type": "code",
   "execution_count": 31,
   "id": "83a51dd9",
   "metadata": {},
   "outputs": [
    {
     "name": "stdout",
     "output_type": "stream",
     "text": [
      "PYTHON PROGRAMMING\n",
      "python programming\n",
      "Python Programming\n"
     ]
    }
   ],
   "source": [
    "course = \"Python Programming\"\n",
    "print(course.upper()) #convert to uppercase\n",
    "print(course.lower()) #convert to lowerrcase\n",
    "print(course.title()) #convert firstchar uppercase in every word\n"
   ]
  },
  {
   "cell_type": "code",
   "execution_count": 32,
   "id": "6fc62d39",
   "metadata": {},
   "outputs": [
    {
     "name": "stdout",
     "output_type": "stream",
     "text": [
      "Python Programming\n"
     ]
    }
   ],
   "source": [
    "course = \"  Python Programming\"\n",
    "print(course.strip()) # remove whitespace\n",
    "# basocally use it on input"
   ]
  },
  {
   "cell_type": "code",
   "execution_count": 33,
   "id": "cd4bb7fb",
   "metadata": {},
   "outputs": [
    {
     "name": "stdout",
     "output_type": "stream",
     "text": [
      "9\n",
      "  -ython -rogramming\n",
      "True\n",
      "False\n"
     ]
    }
   ],
   "source": [
    "print(course.find(\"Pro\"))\n",
    "print(course.replace(\"P\",\"-\"))\n",
    "print(\"Programming\" in course)\n",
    "print(\"Programming\" not in course)"
   ]
  },
  {
   "cell_type": "markdown",
   "id": "9edece61",
   "metadata": {},
   "source": [
    "# Numbers"
   ]
  },
  {
   "cell_type": "code",
   "execution_count": 34,
   "id": "1fe23669",
   "metadata": {},
   "outputs": [
    {
     "name": "stdout",
     "output_type": "stream",
     "text": [
      "2\n",
      "0b10\n"
     ]
    }
   ],
   "source": [
    "x=10\n",
    "x=0b10 # 0b->binary\n",
    "print(x)\n",
    "print(bin(x)) #binary format"
   ]
  },
  {
   "cell_type": "code",
   "execution_count": 35,
   "id": "068ac6da",
   "metadata": {},
   "outputs": [
    {
     "name": "stdout",
     "output_type": "stream",
     "text": [
      "300\n",
      "0x12c\n"
     ]
    }
   ],
   "source": [
    "x= 0x12c # 0x->Hexadecimal\n",
    "print(x)\n",
    "print(hex(x))  #hexadecimal format"
   ]
  },
  {
   "cell_type": "code",
   "execution_count": 36,
   "id": "15dfe686",
   "metadata": {},
   "outputs": [],
   "source": [
    "# python also support complex number (a+bi)"
   ]
  },
  {
   "cell_type": "code",
   "execution_count": 37,
   "id": "25bd6173",
   "metadata": {},
   "outputs": [
    {
     "name": "stdout",
     "output_type": "stream",
     "text": [
      "(1+2j)\n"
     ]
    }
   ],
   "source": [
    "x=1+2j # j imaginary number\n",
    "print(x)"
   ]
  },
  {
   "cell_type": "code",
   "execution_count": 38,
   "id": "5bea0279",
   "metadata": {},
   "outputs": [
    {
     "name": "stdout",
     "output_type": "stream",
     "text": [
      "3.3333333333333335\n"
     ]
    }
   ],
   "source": [
    "x=10/3 \n",
    "print(x) #float"
   ]
  },
  {
   "cell_type": "code",
   "execution_count": 39,
   "id": "d22669d8",
   "metadata": {},
   "outputs": [
    {
     "name": "stdout",
     "output_type": "stream",
     "text": [
      "3\n"
     ]
    }
   ],
   "source": [
    "x=10//3 \n",
    "print(x) #integer\n"
   ]
  },
  {
   "cell_type": "code",
   "execution_count": 40,
   "id": "f585f66f",
   "metadata": {},
   "outputs": [
    {
     "name": "stdout",
     "output_type": "stream",
     "text": [
      "1000\n"
     ]
    }
   ],
   "source": [
    "x=10**3\n",
    "print(x) "
   ]
  },
  {
   "cell_type": "code",
   "execution_count": 41,
   "id": "1eb291d0",
   "metadata": {},
   "outputs": [],
   "source": [
    "x=x+1\n",
    "x+=1 \n",
    "#same"
   ]
  },
  {
   "cell_type": "code",
   "execution_count": 42,
   "id": "2c483635",
   "metadata": {},
   "outputs": [],
   "source": [
    "#useful function "
   ]
  },
  {
   "cell_type": "code",
   "execution_count": 43,
   "id": "e5b28cc5",
   "metadata": {},
   "outputs": [
    {
     "name": "stdout",
     "output_type": "stream",
     "text": [
      "3\n"
     ]
    }
   ],
   "source": [
    "PI=3.14\n",
    "print(round(PI))\n"
   ]
  },
  {
   "cell_type": "code",
   "execution_count": 44,
   "id": "3b49592a",
   "metadata": {},
   "outputs": [
    {
     "name": "stdout",
     "output_type": "stream",
     "text": [
      "3.14\n"
     ]
    }
   ],
   "source": [
    "PI=-3.14\n",
    "print(abs(PI)) #absolute number"
   ]
  },
  {
   "cell_type": "code",
   "execution_count": 45,
   "id": "9f1aa97c",
   "metadata": {},
   "outputs": [],
   "source": [
    "import math"
   ]
  },
  {
   "cell_type": "code",
   "execution_count": 46,
   "id": "61aa94dd",
   "metadata": {},
   "outputs": [
    {
     "data": {
      "text/plain": [
       "3"
      ]
     },
     "execution_count": 46,
     "metadata": {},
     "output_type": "execute_result"
    }
   ],
   "source": [
    "PI=3.14\n",
    "\n",
    "math.floor(PI)"
   ]
  },
  {
   "cell_type": "markdown",
   "id": "1cd0c4b1",
   "metadata": {},
   "source": [
    "# Type Conversion"
   ]
  },
  {
   "cell_type": "code",
   "execution_count": 47,
   "id": "a9bbc38b",
   "metadata": {},
   "outputs": [
    {
     "ename": "KeyboardInterrupt",
     "evalue": "Interrupted by user",
     "output_type": "error",
     "traceback": [
      "\u001b[1;31m---------------------------------------------------------------------------\u001b[0m",
      "\u001b[1;31mKeyboardInterrupt\u001b[0m                         Traceback (most recent call last)",
      "Cell \u001b[1;32mIn [47], line 1\u001b[0m\n\u001b[1;32m----> 1\u001b[0m x\u001b[38;5;241m=\u001b[39m \u001b[38;5;28;43minput\u001b[39;49m\u001b[43m(\u001b[49m\u001b[38;5;124;43m\"\u001b[39;49m\u001b[38;5;124;43mx: \u001b[39;49m\u001b[38;5;124;43m\"\u001b[39;49m\u001b[43m)\u001b[49m\n\u001b[0;32m      2\u001b[0m y\u001b[38;5;241m=\u001b[39mx\u001b[38;5;241m+\u001b[39m\u001b[38;5;241m1\u001b[39m\n",
      "File \u001b[1;32m~\\AppData\\Local\\Programs\\Python\\Python310\\lib\\site-packages\\ipykernel\\kernelbase.py:1177\u001b[0m, in \u001b[0;36mKernel.raw_input\u001b[1;34m(self, prompt)\u001b[0m\n\u001b[0;32m   1173\u001b[0m \u001b[38;5;28;01mif\u001b[39;00m \u001b[38;5;129;01mnot\u001b[39;00m \u001b[38;5;28mself\u001b[39m\u001b[38;5;241m.\u001b[39m_allow_stdin:\n\u001b[0;32m   1174\u001b[0m     \u001b[38;5;28;01mraise\u001b[39;00m StdinNotImplementedError(\n\u001b[0;32m   1175\u001b[0m         \u001b[38;5;124m\"\u001b[39m\u001b[38;5;124mraw_input was called, but this frontend does not support input requests.\u001b[39m\u001b[38;5;124m\"\u001b[39m\n\u001b[0;32m   1176\u001b[0m     )\n\u001b[1;32m-> 1177\u001b[0m \u001b[38;5;28;01mreturn\u001b[39;00m \u001b[38;5;28;43mself\u001b[39;49m\u001b[38;5;241;43m.\u001b[39;49m\u001b[43m_input_request\u001b[49m\u001b[43m(\u001b[49m\n\u001b[0;32m   1178\u001b[0m \u001b[43m    \u001b[49m\u001b[38;5;28;43mstr\u001b[39;49m\u001b[43m(\u001b[49m\u001b[43mprompt\u001b[49m\u001b[43m)\u001b[49m\u001b[43m,\u001b[49m\n\u001b[0;32m   1179\u001b[0m \u001b[43m    \u001b[49m\u001b[38;5;28;43mself\u001b[39;49m\u001b[38;5;241;43m.\u001b[39;49m\u001b[43m_parent_ident\u001b[49m\u001b[43m[\u001b[49m\u001b[38;5;124;43m\"\u001b[39;49m\u001b[38;5;124;43mshell\u001b[39;49m\u001b[38;5;124;43m\"\u001b[39;49m\u001b[43m]\u001b[49m\u001b[43m,\u001b[49m\n\u001b[0;32m   1180\u001b[0m \u001b[43m    \u001b[49m\u001b[38;5;28;43mself\u001b[39;49m\u001b[38;5;241;43m.\u001b[39;49m\u001b[43mget_parent\u001b[49m\u001b[43m(\u001b[49m\u001b[38;5;124;43m\"\u001b[39;49m\u001b[38;5;124;43mshell\u001b[39;49m\u001b[38;5;124;43m\"\u001b[39;49m\u001b[43m)\u001b[49m\u001b[43m,\u001b[49m\n\u001b[0;32m   1181\u001b[0m \u001b[43m    \u001b[49m\u001b[43mpassword\u001b[49m\u001b[38;5;241;43m=\u001b[39;49m\u001b[38;5;28;43;01mFalse\u001b[39;49;00m\u001b[43m,\u001b[49m\n\u001b[0;32m   1182\u001b[0m \u001b[43m\u001b[49m\u001b[43m)\u001b[49m\n",
      "File \u001b[1;32m~\\AppData\\Local\\Programs\\Python\\Python310\\lib\\site-packages\\ipykernel\\kernelbase.py:1219\u001b[0m, in \u001b[0;36mKernel._input_request\u001b[1;34m(self, prompt, ident, parent, password)\u001b[0m\n\u001b[0;32m   1216\u001b[0m             \u001b[38;5;28;01mbreak\u001b[39;00m\n\u001b[0;32m   1217\u001b[0m \u001b[38;5;28;01mexcept\u001b[39;00m \u001b[38;5;167;01mKeyboardInterrupt\u001b[39;00m:\n\u001b[0;32m   1218\u001b[0m     \u001b[38;5;66;03m# re-raise KeyboardInterrupt, to truncate traceback\u001b[39;00m\n\u001b[1;32m-> 1219\u001b[0m     \u001b[38;5;28;01mraise\u001b[39;00m \u001b[38;5;167;01mKeyboardInterrupt\u001b[39;00m(\u001b[38;5;124m\"\u001b[39m\u001b[38;5;124mInterrupted by user\u001b[39m\u001b[38;5;124m\"\u001b[39m) \u001b[38;5;28;01mfrom\u001b[39;00m \u001b[38;5;28mNone\u001b[39m\n\u001b[0;32m   1220\u001b[0m \u001b[38;5;28;01mexcept\u001b[39;00m \u001b[38;5;167;01mException\u001b[39;00m:\n\u001b[0;32m   1221\u001b[0m     \u001b[38;5;28mself\u001b[39m\u001b[38;5;241m.\u001b[39mlog\u001b[38;5;241m.\u001b[39mwarning(\u001b[38;5;124m\"\u001b[39m\u001b[38;5;124mInvalid Message:\u001b[39m\u001b[38;5;124m\"\u001b[39m, exc_info\u001b[38;5;241m=\u001b[39m\u001b[38;5;28;01mTrue\u001b[39;00m)\n",
      "\u001b[1;31mKeyboardInterrupt\u001b[0m: Interrupted by user"
     ]
    }
   ],
   "source": [
    "x= input(\"x: \")\n",
    "y=x+1"
   ]
  },
  {
   "cell_type": "code",
   "execution_count": null,
   "id": "91308503",
   "metadata": {},
   "outputs": [],
   "source": [
    "# built in type conversion function\n",
    "\"\"\"int(x)\n",
    "float(x)\n",
    "bool(x)\n",
    "str(x)\n",
    "\"\"\""
   ]
  },
  {
   "cell_type": "code",
   "execution_count": null,
   "id": "23b617c7",
   "metadata": {},
   "outputs": [],
   "source": [
    "x= input(\"x: \")\n",
    "print(int(x))\n",
    "print(float(x))\n",
    "print(bool(x))"
   ]
  },
  {
   "cell_type": "code",
   "execution_count": null,
   "id": "706839f3",
   "metadata": {},
   "outputs": [],
   "source": [
    "# Falsy value\n",
    "# \"\" , 0 , [] , None(null)\n",
    "# all these in bool function return false"
   ]
  },
  {
   "cell_type": "markdown",
   "id": "74854a8c",
   "metadata": {},
   "source": [
    "# Conditional Statements\n",
    "\n",
    "\n"
   ]
  },
  {
   "cell_type": "code",
   "execution_count": null,
   "id": "3589a7dc",
   "metadata": {},
   "outputs": [],
   "source": [
    "age=22 \n",
    "if age>=18:\n",
    "    print(\"Adult\")\n",
    "elif age>=13:\n",
    "    print(\"Teenager\")\n",
    "else:\n",
    "    print(\"Child\")\n",
    "    \n",
    "print(\"All done!\")\n"
   ]
  },
  {
   "cell_type": "code",
   "execution_count": null,
   "id": "df189bdd",
   "metadata": {},
   "outputs": [],
   "source": [
    "x=1\n",
    "if x>1:\n",
    "    pass\n",
    "else:\n",
    "    pass\n",
    "\n",
    "# if want to use empty block use \"pass\""
   ]
  },
  {
   "cell_type": "markdown",
   "id": "8daecc2d",
   "metadata": {},
   "source": [
    "# Logical operator\n"
   ]
  },
  {
   "cell_type": "code",
   "execution_count": null,
   "id": "7a8e038c",
   "metadata": {},
   "outputs": [],
   "source": [
    "name = \" \"\n",
    "if not name.strip():  #use strip because of whitespace \n",
    "    print(\"Name is empty\")"
   ]
  },
  {
   "cell_type": "code",
   "execution_count": null,
   "id": "d946d8d6",
   "metadata": {},
   "outputs": [],
   "source": [
    "age = 22 \n",
    "if age>=18 and age<65:\n",
    "    print(\"Eligible\")"
   ]
  },
  {
   "cell_type": "code",
   "execution_count": null,
   "id": "8f5aa500",
   "metadata": {},
   "outputs": [],
   "source": [
    "18<=age<65 # chaining comparision operators"
   ]
  },
  {
   "cell_type": "code",
   "execution_count": null,
   "id": "7ca0d83d",
   "metadata": {},
   "outputs": [],
   "source": [
    "age = 22 \n",
    "if 18<= age <65:\n",
    "    print(\"Eligible\")"
   ]
  },
  {
   "cell_type": "markdown",
   "id": "018eaf4f",
   "metadata": {},
   "source": [
    "# Ternary Operator"
   ]
  },
  {
   "cell_type": "code",
   "execution_count": null,
   "id": "69b8bf13",
   "metadata": {},
   "outputs": [],
   "source": [
    "# message = age >=18 ? \"Eligible\" : \"Not eligible\" \n",
    "# ternary operator in java,c#"
   ]
  },
  {
   "cell_type": "code",
   "execution_count": null,
   "id": "547d45a1",
   "metadata": {},
   "outputs": [],
   "source": [
    "age=19\n",
    "message = \"Eligible\" if age>=18 else \"Not eligible\"\n",
    "print(message)"
   ]
  },
  {
   "cell_type": "markdown",
   "id": "f7236fd6",
   "metadata": {},
   "source": [
    "# For loops"
   ]
  },
  {
   "cell_type": "code",
   "execution_count": null,
   "id": "80d61e3e",
   "metadata": {},
   "outputs": [],
   "source": [
    "#iterate any object which is iterable\n",
    "\n",
    "for x in \"Python\": #string is iterable in python\n",
    "    print(x)"
   ]
  },
  {
   "cell_type": "code",
   "execution_count": null,
   "id": "8e2dda6a",
   "metadata": {},
   "outputs": [],
   "source": [
    "for x in ['a','b','c']:\n",
    "    print(x)"
   ]
  },
  {
   "cell_type": "code",
   "execution_count": null,
   "id": "d2e7f469",
   "metadata": {},
   "outputs": [],
   "source": [
    "for x in range(5): \n",
    "    print(x)\n",
    "#if want iterate sequential number use range function "
   ]
  },
  {
   "cell_type": "code",
   "execution_count": null,
   "id": "a7355039",
   "metadata": {},
   "outputs": [],
   "source": [
    "for x in range(1,5): \n",
    "    print(x)"
   ]
  },
  {
   "cell_type": "code",
   "execution_count": null,
   "id": "16ddc492",
   "metadata": {},
   "outputs": [],
   "source": [
    "print(range(5)) # not a list\n",
    "print(type(range(5))) #range object = iterable\n",
    "#range function take small amount of memmory"
   ]
  },
  {
   "cell_type": "markdown",
   "id": "b4741a6b",
   "metadata": {},
   "source": [
    "# For else"
   ]
  },
  {
   "cell_type": "code",
   "execution_count": null,
   "id": "ae0a3c02",
   "metadata": {},
   "outputs": [],
   "source": [
    "names = [\"Jhone\", \"Mary\"]\n",
    "found= False\n",
    "for name in names:\n",
    "    if name.startswith(\"J\"):\n",
    "        print(\"Found\")\n",
    "        found= True\n",
    "        break\n",
    "if not found:\n",
    "    print(\"Not found\")\n",
    "    \n",
    "#used in other language"
   ]
  },
  {
   "cell_type": "code",
   "execution_count": null,
   "id": "9a4c77aa",
   "metadata": {},
   "outputs": [],
   "source": [
    "names = [\"Jhone\", \"Mary\"]\n",
    "for name in names:\n",
    "    if name.startswith(\"J\"):\n",
    "        print(\"Found\")\n",
    "        break    \n",
    "else:\n",
    "    print(\"Not found\")\n"
   ]
  },
  {
   "cell_type": "markdown",
   "id": "eb58051a",
   "metadata": {},
   "source": [
    "# While Loop"
   ]
  },
  {
   "cell_type": "code",
   "execution_count": 51,
   "id": "51f91f82",
   "metadata": {},
   "outputs": [
    {
     "name": "stdout",
     "output_type": "stream",
     "text": [
      "Guess: 1\n",
      "Guess: 1\n",
      "Guess: 1\n",
      "Guess: 1\n",
      "Guess: 12\n",
      "Guess: 5\n"
     ]
    }
   ],
   "source": [
    "guess=0\n",
    "answer=5\n",
    "\n",
    "while answer!=guess:\n",
    "    guess=int(input(\"Guess: \"))\n",
    "else:\n",
    "    pass"
   ]
  },
  {
   "cell_type": "markdown",
   "id": "e064b89d",
   "metadata": {},
   "source": [
    "# Function"
   ]
  },
  {
   "cell_type": "code",
   "execution_count": 54,
   "id": "4818e842",
   "metadata": {},
   "outputs": [
    {
     "data": {
      "text/plain": [
       "5"
      ]
     },
     "execution_count": 54,
     "metadata": {},
     "output_type": "execute_result"
    }
   ],
   "source": [
    "def increament(number,by):\n",
    "    return number+by\n",
    "\n",
    "increament(2,3) # return a null value"
   ]
  },
  {
   "cell_type": "code",
   "execution_count": 53,
   "id": "e0bf49b1",
   "metadata": {},
   "outputs": [
    {
     "name": "stdout",
     "output_type": "stream",
     "text": [
      "None\n"
     ]
    }
   ],
   "source": [
    "print(increament(2,3))"
   ]
  },
  {
   "cell_type": "code",
   "execution_count": 57,
   "id": "46bb4123",
   "metadata": {},
   "outputs": [
    {
     "data": {
      "text/plain": [
       "(2, 5)"
      ]
     },
     "execution_count": 57,
     "metadata": {},
     "output_type": "execute_result"
    }
   ],
   "source": [
    "def increament(number,by):\n",
    "    return (number,number+by) #can return more parameter\n",
    "\n",
    "increament(2,3) #output is tupple"
   ]
  },
  {
   "cell_type": "code",
   "execution_count": 58,
   "id": "b6f97d80",
   "metadata": {},
   "outputs": [
    {
     "name": "stdout",
     "output_type": "stream",
     "text": [
      "(2, 5)\n"
     ]
    }
   ],
   "source": [
    "print(increament(2,by=3)) #keyword argument"
   ]
  },
  {
   "cell_type": "code",
   "execution_count": 59,
   "id": "a827b04b",
   "metadata": {},
   "outputs": [
    {
     "data": {
      "text/plain": [
       "(2, 3)"
      ]
     },
     "execution_count": 59,
     "metadata": {},
     "output_type": "execute_result"
    }
   ],
   "source": [
    "def increament(number,by=1): #default parameter\n",
    "    return (number,number+by) \n",
    "\n",
    "increament(2)"
   ]
  },
  {
   "cell_type": "code",
   "execution_count": 62,
   "id": "1c3c1f10",
   "metadata": {},
   "outputs": [
    {
     "data": {
      "text/plain": [
       "(2, 3)"
      ]
     },
     "execution_count": 62,
     "metadata": {},
     "output_type": "execute_result"
    }
   ],
   "source": [
    "def increament(number: int,by: int=1)->tuple: #type annotation\n",
    "    return (number,number+by) \n",
    "\n",
    "increament(2)"
   ]
  },
  {
   "cell_type": "markdown",
   "id": "eaf78eea",
   "metadata": {},
   "source": [
    "# Argument xargs"
   ]
  },
  {
   "cell_type": "code",
   "execution_count": 68,
   "id": "3344fc6d",
   "metadata": {},
   "outputs": [],
   "source": [
    "def multiply(a,b):\n",
    "    return a*b"
   ]
  },
  {
   "cell_type": "code",
   "execution_count": 69,
   "id": "4d944988",
   "metadata": {},
   "outputs": [
    {
     "data": {
      "text/plain": [
       "6"
      ]
     },
     "execution_count": 69,
     "metadata": {},
     "output_type": "execute_result"
    }
   ],
   "source": [
    "multiply(2,3)"
   ]
  },
  {
   "cell_type": "code",
   "execution_count": 77,
   "id": "8b8f8f8f",
   "metadata": {},
   "outputs": [
    {
     "name": "stdout",
     "output_type": "stream",
     "text": [
      "(2, 3, 4, 5, 6)\n"
     ]
    }
   ],
   "source": [
    "def multiply(*list): \n",
    "    print(list)\n",
    "    \n",
    "multiply(2,3,4,5,6) #arbitary argument\n",
    "#get a tupple "
   ]
  },
  {
   "cell_type": "code",
   "execution_count": 76,
   "id": "c2b1afcc",
   "metadata": {},
   "outputs": [
    {
     "data": {
      "text/plain": [
       "120"
      ]
     },
     "execution_count": 76,
     "metadata": {},
     "output_type": "execute_result"
    }
   ],
   "source": [
    "def multiply(*list): \n",
    "    total=1\n",
    "    for number in list:\n",
    "        total *= number\n",
    "    return total\n",
    "    \n",
    "multiply(2,3,4,5) "
   ]
  },
  {
   "cell_type": "markdown",
   "id": "686b6aa2",
   "metadata": {},
   "source": [
    "# Argument-xxargs"
   ]
  },
  {
   "cell_type": "code",
   "execution_count": 79,
   "id": "8712da5c",
   "metadata": {},
   "outputs": [],
   "source": [
    "def save_user(**user):\n",
    "    print(user)"
   ]
  },
  {
   "cell_type": "code",
   "execution_count": 81,
   "id": "5d81eecc",
   "metadata": {},
   "outputs": [
    {
     "name": "stdout",
     "output_type": "stream",
     "text": [
      "{'id': 1, 'name': 'admin'}\n"
     ]
    }
   ],
   "source": [
    "save_user(id=1,name=\"admin\") \n",
    "# get a dictonary [object in javascript]"
   ]
  },
  {
   "cell_type": "markdown",
   "id": "e4b79dc5",
   "metadata": {},
   "source": [
    "# Scope"
   ]
  },
  {
   "cell_type": "code",
   "execution_count": 86,
   "id": "f1e84fcc",
   "metadata": {},
   "outputs": [
    {
     "name": "stdout",
     "output_type": "stream",
     "text": [
      "a\n"
     ]
    }
   ],
   "source": [
    "def greet():\n",
    "        if True:\n",
    "            message=\"a\" #local variable\n",
    "        print(message)\n",
    "greet()"
   ]
  },
  {
   "cell_type": "code",
   "execution_count": 87,
   "id": "7b00b510",
   "metadata": {},
   "outputs": [
    {
     "name": "stdout",
     "output_type": "stream",
     "text": [
      "a\n"
     ]
    }
   ],
   "source": [
    "message=\"a\" #global variable\n",
    "def greet():\n",
    "        print(message)\n",
    "greet()"
   ]
  },
  {
   "cell_type": "code",
   "execution_count": 88,
   "id": "7ba299fb",
   "metadata": {},
   "outputs": [
    {
     "name": "stdout",
     "output_type": "stream",
     "text": [
      "a\n"
     ]
    }
   ],
   "source": [
    "message=\"a\" #global variable\n",
    "def greet():\n",
    "        message=\"b\" #python create a local variable message\n",
    "greet()\n",
    "print(message)"
   ]
  },
  {
   "cell_type": "code",
   "execution_count": 89,
   "id": "aec53aa3",
   "metadata": {},
   "outputs": [
    {
     "name": "stdout",
     "output_type": "stream",
     "text": [
      "b\n"
     ]
    }
   ],
   "source": [
    "message=\"a\" #global variable\n",
    "def greet():\n",
    "        global message\n",
    "        message=\"b\"\n",
    "greet()\n",
    "print(message)"
   ]
  },
  {
   "cell_type": "markdown",
   "id": "c5675b50",
   "metadata": {},
   "source": [
    "# Fizz buzz algorithm"
   ]
  },
  {
   "cell_type": "code",
   "execution_count": null,
   "id": "08de2053",
   "metadata": {},
   "outputs": [],
   "source": [
    "\"\"\"if input divisible by 3 get fizz\n",
    "if input divisible by 5 get buzz\n",
    "if input divisible by 3 and 5 get fizz buzz\n",
    "otherwise get the input value\n",
    "\"\"\""
   ]
  },
  {
   "cell_type": "code",
   "execution_count": null,
   "id": "8b7fdcc5",
   "metadata": {},
   "outputs": [],
   "source": [
    "# Solution 1"
   ]
  },
  {
   "cell_type": "code",
   "execution_count": 110,
   "id": "1d089afb",
   "metadata": {},
   "outputs": [
    {
     "name": "stdout",
     "output_type": "stream",
     "text": [
      "Fizz Buzz\n"
     ]
    }
   ],
   "source": [
    "def fizz_buzz(input):\n",
    "    if (input%3==0) and (input%5==0):\n",
    "        return \"Fizz Buzz\"\n",
    "    elif input%5==0 :\n",
    "        return \"Buzz\"\n",
    "    elif input%3==0:\n",
    "        return \"Fizz\"\n",
    "    else:\n",
    "        return input\n",
    "print(fizz_buzz(15))"
   ]
  },
  {
   "cell_type": "code",
   "execution_count": 111,
   "id": "441328a3",
   "metadata": {},
   "outputs": [],
   "source": [
    "# Solution 2\n",
    "#bad practice"
   ]
  },
  {
   "cell_type": "code",
   "execution_count": 112,
   "id": "63319910",
   "metadata": {},
   "outputs": [
    {
     "name": "stdout",
     "output_type": "stream",
     "text": [
      "Fizz Buzz\n"
     ]
    }
   ],
   "source": [
    "def fizz_buzz(input):\n",
    "    if input%3==0 and input%5!=0:\n",
    "        return \"Fizz\"\n",
    "    elif input%5==0 and input%3!=0:\n",
    "        return \"Buzz\"\n",
    "    elif (input%3==0) and (input%5==0):\n",
    "        return \"Fizz Buzz\"\n",
    "    else:\n",
    "        return input\n",
    "print(fizz_buzz(15))"
   ]
  },
  {
   "cell_type": "code",
   "execution_count": null,
   "id": "b2609676",
   "metadata": {},
   "outputs": [],
   "source": []
  }
 ],
 "metadata": {
  "kernelspec": {
   "display_name": "Python 3 (ipykernel)",
   "language": "python",
   "name": "python3"
  },
  "language_info": {
   "codemirror_mode": {
    "name": "ipython",
    "version": 3
   },
   "file_extension": ".py",
   "mimetype": "text/x-python",
   "name": "python",
   "nbconvert_exporter": "python",
   "pygments_lexer": "ipython3",
   "version": "3.10.4"
  }
 },
 "nbformat": 4,
 "nbformat_minor": 5
}
